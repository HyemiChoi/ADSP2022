{
 "cells": [
  {
   "cell_type": "markdown",
   "id": "db3d4f5c",
   "metadata": {},
   "source": [
    "## 2. R 기본 문법"
   ]
  },
  {
   "cell_type": "markdown",
   "id": "819709be",
   "metadata": {},
   "source": [
    "### (1) 연산자"
   ]
  },
  {
   "cell_type": "markdown",
   "id": "74b69124",
   "metadata": {},
   "source": [
    "**1) 대입 연산자**"
   ]
  },
  {
   "cell_type": "markdown",
   "id": "7601cfc1",
   "metadata": {},
   "source": [
    "- 대입 연산자는 변수에 값을 할당하기 위해 사용하는 연산자"
   ]
  },
  {
   "cell_type": "markdown",
   "id": "8cb3f851",
   "metadata": {},
   "source": [
    "- 변수에 값이 정상적으로 할당되었다면 RStudio의 오른쪽 상단에 있는 환경 창에 변수와 그에 대응되는 값 혹은 데이터의 개요가 등록됨"
   ]
  },
  {
   "cell_type": "markdown",
   "id": "8606403a",
   "metadata": {},
   "source": [
    "대입 연산자|내용\n",
    ":------|:---\n",
    "<-, <<-, =|오른 쪽 값을 왼쪽에 대입\n",
    "->, ->>|왼쪽 값을 오른쪽에 대입\n"
   ]
  },
  {
   "cell_type": "code",
   "execution_count": 47,
   "id": "9ed97ec8",
   "metadata": {},
   "outputs": [],
   "source": [
    "string1 <- \"abc\" "
   ]
  },
  {
   "cell_type": "code",
   "execution_count": 48,
   "id": "29941eff",
   "metadata": {},
   "outputs": [],
   "source": [
    "\"data\" -> string2"
   ]
  },
  {
   "cell_type": "code",
   "execution_count": 49,
   "id": "f0a357c7",
   "metadata": {},
   "outputs": [],
   "source": [
    "number1 <<- 15"
   ]
  },
  {
   "cell_type": "code",
   "execution_count": 50,
   "id": "48202799",
   "metadata": {},
   "outputs": [],
   "source": [
    "Inf ->> number2 "
   ]
  },
  {
   "cell_type": "code",
   "execution_count": 51,
   "id": "2325c827",
   "metadata": {},
   "outputs": [],
   "source": [
    "logical = NA  "
   ]
  },
  {
   "cell_type": "markdown",
   "id": "4ef19f77",
   "metadata": {},
   "source": [
    "**2) 비교 연산자**"
   ]
  },
  {
   "cell_type": "markdown",
   "id": "4032e82b",
   "metadata": {},
   "source": [
    "- 대입 연산자에 의하여 할당된 값과 변수, 임의의 숫자, 문자 혹은 논리값을 비교할 수 있음 "
   ]
  },
  {
   "cell_type": "markdown",
   "id": "5e613c41",
   "metadata": {},
   "source": [
    "- NA는 비교할 값이 존재하지 않으므로 어떤 것과 비교하더라도 NA를 반환"
   ]
  },
  {
   "cell_type": "markdown",
   "id": "efdf445f",
   "metadata": {},
   "source": [
    "비교 연산자|내용\n",
    ":------|:---\n",
    "==|두 값이 같은지 비교\n",
    "<, >|초과, 미만을 비교\n",
    "<=, => | 이상, 이하를 비교\n",
    "is.character | 문자형인지 아닌지를 비교\n",
    "is.numeric | 숫자형인지 아닌지를 비교\n",
    "is.logical | 논리형인지 아닌지를 비교\n",
    "is.na | NA인지 아닌지를 비교\n",
    "is.null | NULL인지 아닌지를 비교\n"
   ]
  },
  {
   "cell_type": "code",
   "execution_count": 52,
   "id": "96bd90ea",
   "metadata": {},
   "outputs": [
    {
     "data": {
      "text/html": [
       "TRUE"
      ],
      "text/latex": [
       "TRUE"
      ],
      "text/markdown": [
       "TRUE"
      ],
      "text/plain": [
       "[1] TRUE"
      ]
     },
     "metadata": {},
     "output_type": "display_data"
    }
   ],
   "source": [
    "string1 == \"abc\" "
   ]
  },
  {
   "cell_type": "code",
   "execution_count": 53,
   "id": "d90dc08b",
   "metadata": {},
   "outputs": [
    {
     "data": {
      "text/html": [
       "FALSE"
      ],
      "text/latex": [
       "FALSE"
      ],
      "text/markdown": [
       "FALSE"
      ],
      "text/plain": [
       "[1] FALSE"
      ]
     },
     "metadata": {},
     "output_type": "display_data"
    }
   ],
   "source": [
    "string2 > \"DATA\""
   ]
  },
  {
   "cell_type": "code",
   "execution_count": 54,
   "id": "69996c7a",
   "metadata": {},
   "outputs": [
    {
     "data": {
      "text/html": [
       "TRUE"
      ],
      "text/latex": [
       "TRUE"
      ],
      "text/markdown": [
       "TRUE"
      ],
      "text/plain": [
       "[1] TRUE"
      ]
     },
     "metadata": {},
     "output_type": "display_data"
    }
   ],
   "source": [
    "number1 <= 15 "
   ]
  },
  {
   "cell_type": "code",
   "execution_count": 55,
   "id": "9490d750",
   "metadata": {},
   "outputs": [
    {
     "data": {
      "text/html": [
       "TRUE"
      ],
      "text/latex": [
       "TRUE"
      ],
      "text/markdown": [
       "TRUE"
      ],
      "text/plain": [
       "[1] TRUE"
      ]
     },
     "metadata": {},
     "output_type": "display_data"
    }
   ],
   "source": [
    "is.na(logical)"
   ]
  },
  {
   "cell_type": "code",
   "execution_count": 56,
   "id": "2e2c7ce0",
   "metadata": {},
   "outputs": [
    {
     "data": {
      "text/html": [
       "TRUE"
      ],
      "text/latex": [
       "TRUE"
      ],
      "text/markdown": [
       "TRUE"
      ],
      "text/plain": [
       "[1] TRUE"
      ]
     },
     "metadata": {},
     "output_type": "display_data"
    }
   ],
   "source": [
    "is.null(NULL) "
   ]
  },
  {
   "cell_type": "markdown",
   "id": "40c15d5b",
   "metadata": {},
   "source": [
    "**3) 산술 연산자**"
   ]
  },
  {
   "cell_type": "markdown",
   "id": "d087c196",
   "metadata": {},
   "source": [
    "- 두 숫자형 타입의 계산을 위한 연산자로서 다양한 연산이 가능"
   ]
  },
  {
   "cell_type": "markdown",
   "id": "7eab5646",
   "metadata": {},
   "source": [
    "산술 연산자|내용\n",
    ":------|:---\n",
    "+|두 숫자의 덧셈\n",
    "-|두 숫자의 뺄셈\n",
    "*|두 숫자의 곱셈\n",
    "/ |두 숫자의 나눗셈\n",
    "%/% |두 숫자의 나눗셈의 몫\n",
    "%% |두 숫자의 나눗셈의 나머지\n",
    "^, ** |거듭제곱\n",
    "exp() |자연산수의 거듭제곱\n"
   ]
  },
  {
   "cell_type": "markdown",
   "id": "eb0136f5",
   "metadata": {},
   "source": [
    "**4) 기타 연산자**"
   ]
  },
  {
   "cell_type": "markdown",
   "id": "aa9f9ff3",
   "metadata": {},
   "source": [
    "- 논리값을 계산하기 위한 연산자 "
   ]
  },
  {
   "cell_type": "markdown",
   "id": "9a10278e",
   "metadata": {},
   "source": [
    "- 부정 연산자 : 현재의 논리값에 반대되는 값"
   ]
  },
  {
   "cell_type": "markdown",
   "id": "d47c0db4",
   "metadata": {},
   "source": [
    "- AND 연산자 : 두 값이 모두 참일 때만 참을 반환"
   ]
  },
  {
   "cell_type": "markdown",
   "id": "1e4e6220",
   "metadata": {},
   "source": [
    "- OR 연산자 : 둘 중 하나의 값만 참이더라도 참을 반환"
   ]
  },
  {
   "cell_type": "markdown",
   "id": "08d39c6e",
   "metadata": {},
   "source": [
    "기타 연산자|내용\n",
    ":------|:---\n",
    "!|부정 연산자\n",
    "&|AND 연산자\n",
    "\\||OR 연산자"
   ]
  },
  {
   "cell_type": "code",
   "execution_count": 57,
   "id": "322c64fa",
   "metadata": {},
   "outputs": [
    {
     "data": {
      "text/html": [
       "FALSE"
      ],
      "text/latex": [
       "FALSE"
      ],
      "text/markdown": [
       "FALSE"
      ],
      "text/plain": [
       "[1] FALSE"
      ]
     },
     "metadata": {},
     "output_type": "display_data"
    }
   ],
   "source": [
    "!TRUE  "
   ]
  },
  {
   "cell_type": "code",
   "execution_count": 58,
   "id": "b52d30f4",
   "metadata": {},
   "outputs": [
    {
     "data": {
      "text/html": [
       "TRUE"
      ],
      "text/latex": [
       "TRUE"
      ],
      "text/markdown": [
       "TRUE"
      ],
      "text/plain": [
       "[1] TRUE"
      ]
     },
     "metadata": {},
     "output_type": "display_data"
    }
   ],
   "source": [
    "TRUE&TRUE "
   ]
  },
  {
   "cell_type": "code",
   "execution_count": 59,
   "id": "0c2fc904",
   "metadata": {},
   "outputs": [
    {
     "data": {
      "text/html": [
       "FALSE"
      ],
      "text/latex": [
       "FALSE"
      ],
      "text/markdown": [
       "FALSE"
      ],
      "text/plain": [
       "[1] FALSE"
      ]
     },
     "metadata": {},
     "output_type": "display_data"
    }
   ],
   "source": [
    "TRUE&FALSE  "
   ]
  },
  {
   "cell_type": "code",
   "execution_count": 60,
   "id": "d08af9ea",
   "metadata": {},
   "outputs": [
    {
     "data": {
      "text/html": [
       "TRUE"
      ],
      "text/latex": [
       "TRUE"
      ],
      "text/markdown": [
       "TRUE"
      ],
      "text/plain": [
       "[1] TRUE"
      ]
     },
     "metadata": {},
     "output_type": "display_data"
    }
   ],
   "source": [
    "!(TRUE&FALSE)"
   ]
  },
  {
   "cell_type": "code",
   "execution_count": 61,
   "id": "a8aba286",
   "metadata": {},
   "outputs": [
    {
     "data": {
      "text/html": [
       "TRUE"
      ],
      "text/latex": [
       "TRUE"
      ],
      "text/markdown": [
       "TRUE"
      ],
      "text/plain": [
       "[1] TRUE"
      ]
     },
     "metadata": {},
     "output_type": "display_data"
    }
   ],
   "source": [
    "TRUE|FALSE "
   ]
  },
  {
   "cell_type": "markdown",
   "id": "aba07127",
   "metadata": {},
   "source": [
    "### (2) R 데이터 구조"
   ]
  },
  {
   "cell_type": "markdown",
   "id": "a823e035",
   "metadata": {},
   "source": [
    "**1) 벡터**"
   ]
  },
  {
   "cell_type": "markdown",
   "id": "31a4de6c",
   "metadata": {},
   "source": [
    "- 벡터는 타입이 같은 여러 데이터를 하나의 행으로 저장하는 1차원 데이터 구조"
   ]
  },
  {
   "cell_type": "markdown",
   "id": "e4e9cf88",
   "metadata": {},
   "source": [
    "- \"연결한다\"라는 의미의 \"concatenate\"의 c를 써서 데이터를 묶을 수 있음"
   ]
  },
  {
   "cell_type": "code",
   "execution_count": 62,
   "id": "53f6ef3d",
   "metadata": {},
   "outputs": [
    {
     "data": {
      "text/html": [
       "<ol class=list-inline>\n",
       "\t<li>3</li>\n",
       "\t<li>1</li>\n",
       "\t<li>0</li>\n",
       "</ol>\n"
      ],
      "text/latex": [
       "\\begin{enumerate*}\n",
       "\\item 3\n",
       "\\item 1\n",
       "\\item 0\n",
       "\\end{enumerate*}\n"
      ],
      "text/markdown": [
       "1. 3\n",
       "2. 1\n",
       "3. 0\n",
       "\n",
       "\n"
      ],
      "text/plain": [
       "[1] 3 1 0"
      ]
     },
     "metadata": {},
     "output_type": "display_data"
    }
   ],
   "source": [
    "v4 <- c(3, TRUE, FALSE)\n",
    "v4"
   ]
  },
  {
   "cell_type": "code",
   "execution_count": 63,
   "id": "03a4e9b1",
   "metadata": {},
   "outputs": [
    {
     "data": {
      "text/html": [
       "<ol class=list-inline>\n",
       "\t<li>'a'</li>\n",
       "\t<li>'1'</li>\n",
       "\t<li>'TRUE'</li>\n",
       "</ol>\n"
      ],
      "text/latex": [
       "\\begin{enumerate*}\n",
       "\\item 'a'\n",
       "\\item '1'\n",
       "\\item 'TRUE'\n",
       "\\end{enumerate*}\n"
      ],
      "text/markdown": [
       "1. 'a'\n",
       "2. '1'\n",
       "3. 'TRUE'\n",
       "\n",
       "\n"
      ],
      "text/plain": [
       "[1] \"a\"    \"1\"    \"TRUE\""
      ]
     },
     "metadata": {},
     "output_type": "display_data"
    }
   ],
   "source": [
    "v5 <- c(\"a\", 1, TRUE)\n",
    "v5"
   ]
  },
  {
   "cell_type": "markdown",
   "id": "a1af2bfe",
   "metadata": {},
   "source": [
    "- 벡터를 생성할 때 c 안에 콤마를 구분자로 써서 성분을 직접 입력할 수 있지만 콜론(:)을 활용하여 시작값과 끝값을 지정해 벡터를 생성할 수도 있음"
   ]
  },
  {
   "cell_type": "code",
   "execution_count": 64,
   "id": "522c7d4b",
   "metadata": {},
   "outputs": [
    {
     "data": {
      "text/html": [
       "<ol class=list-inline>\n",
       "\t<li>1</li>\n",
       "\t<li>2</li>\n",
       "\t<li>3</li>\n",
       "\t<li>4</li>\n",
       "\t<li>5</li>\n",
       "\t<li>6</li>\n",
       "</ol>\n"
      ],
      "text/latex": [
       "\\begin{enumerate*}\n",
       "\\item 1\n",
       "\\item 2\n",
       "\\item 3\n",
       "\\item 4\n",
       "\\item 5\n",
       "\\item 6\n",
       "\\end{enumerate*}\n"
      ],
      "text/markdown": [
       "1. 1\n",
       "2. 2\n",
       "3. 3\n",
       "4. 4\n",
       "5. 5\n",
       "6. 6\n",
       "\n",
       "\n"
      ],
      "text/plain": [
       "[1] 1 2 3 4 5 6"
      ]
     },
     "metadata": {},
     "output_type": "display_data"
    }
   ],
   "source": [
    "v1 <- c(1:6)\n",
    "v1"
   ]
  },
  {
   "cell_type": "markdown",
   "id": "faebb933",
   "metadata": {},
   "source": [
    "**2) 행렬**"
   ]
  },
  {
   "cell_type": "markdown",
   "id": "013fb762",
   "metadata": {},
   "source": [
    "- 행렬은 2차원 구조를 가진 벡터"
   ]
  },
  {
   "cell_type": "markdown",
   "id": "b1c9fb07",
   "metadata": {},
   "source": [
    "-  벡터의 성질을 가지고 있으므로 행렬에 저장된 모든 데이터는 같은 타입이어야 함"
   ]
  },
  {
   "cell_type": "markdown",
   "id": "ee124c6c",
   "metadata": {},
   "source": [
    "- 그렇지 못할 경우 자동으로 타입 변환을 수행"
   ]
  },
  {
   "cell_type": "markdown",
   "id": "58576bcd",
   "metadata": {},
   "source": [
    "- matrix를 사용하여 행렬을 만들 경우 nrow를 사용하여 행의 수를 결정하거나 ncol을 사용하여 열의 수를 결정할 수 있음"
   ]
  },
  {
   "cell_type": "code",
   "execution_count": 65,
   "id": "9efff69d",
   "metadata": {},
   "outputs": [
    {
     "data": {
      "text/html": [
       "<table>\n",
       "<tbody>\n",
       "\t<tr><td>1</td><td>3</td><td>5</td></tr>\n",
       "\t<tr><td>2</td><td>4</td><td>6</td></tr>\n",
       "</tbody>\n",
       "</table>\n"
      ],
      "text/latex": [
       "\\begin{tabular}{lll}\n",
       "\t 1 & 3 & 5\\\\\n",
       "\t 2 & 4 & 6\\\\\n",
       "\\end{tabular}\n"
      ],
      "text/markdown": [
       "\n",
       "| 1 | 3 | 5 |\n",
       "| 2 | 4 | 6 |\n",
       "\n"
      ],
      "text/plain": [
       "     [,1] [,2] [,3]\n",
       "[1,] 1    3    5   \n",
       "[2,] 2    4    6   "
      ]
     },
     "metadata": {},
     "output_type": "display_data"
    }
   ],
   "source": [
    "m1 <- matrix(c(1:6),nrow = 2)\n",
    "m1"
   ]
  },
  {
   "cell_type": "code",
   "execution_count": 66,
   "id": "5d09636f",
   "metadata": {},
   "outputs": [
    {
     "data": {
      "text/html": [
       "<table>\n",
       "<tbody>\n",
       "\t<tr><td>1</td><td>4</td></tr>\n",
       "\t<tr><td>2</td><td>5</td></tr>\n",
       "\t<tr><td>3</td><td>6</td></tr>\n",
       "</tbody>\n",
       "</table>\n"
      ],
      "text/latex": [
       "\\begin{tabular}{ll}\n",
       "\t 1 & 4\\\\\n",
       "\t 2 & 5\\\\\n",
       "\t 3 & 6\\\\\n",
       "\\end{tabular}\n"
      ],
      "text/markdown": [
       "\n",
       "| 1 | 4 |\n",
       "| 2 | 5 |\n",
       "| 3 | 6 |\n",
       "\n"
      ],
      "text/plain": [
       "     [,1] [,2]\n",
       "[1,] 1    4   \n",
       "[2,] 2    5   \n",
       "[3,] 3    6   "
      ]
     },
     "metadata": {},
     "output_type": "display_data"
    }
   ],
   "source": [
    "m2 <- matrix(c(1:6),ncol=2)\n",
    "m2"
   ]
  },
  {
   "cell_type": "markdown",
   "id": "ba47591e",
   "metadata": {},
   "source": [
    "- matrix를 사용하여 행렬을 만들 경우 행렬의 값들이 열로 저장"
   ]
  },
  {
   "cell_type": "markdown",
   "id": "fc662194",
   "metadata": {},
   "source": [
    "- 하지만 byrow 옵션에 T(TRUE)를 지정하면 값들이 열이 아닌 행으로 저장"
   ]
  },
  {
   "cell_type": "code",
   "execution_count": 67,
   "id": "d8ec9c18",
   "metadata": {},
   "outputs": [
    {
     "data": {
      "text/html": [
       "<table>\n",
       "<tbody>\n",
       "\t<tr><td>1</td><td>2</td><td>3</td></tr>\n",
       "\t<tr><td>4</td><td>5</td><td>6</td></tr>\n",
       "</tbody>\n",
       "</table>\n"
      ],
      "text/latex": [
       "\\begin{tabular}{lll}\n",
       "\t 1 & 2 & 3\\\\\n",
       "\t 4 & 5 & 6\\\\\n",
       "\\end{tabular}\n"
      ],
      "text/markdown": [
       "\n",
       "| 1 | 2 | 3 |\n",
       "| 4 | 5 | 6 |\n",
       "\n"
      ],
      "text/plain": [
       "     [,1] [,2] [,3]\n",
       "[1,] 1    2    3   \n",
       "[2,] 4    5    6   "
      ]
     },
     "metadata": {},
     "output_type": "display_data"
    }
   ],
   "source": [
    "m3 <- matrix(c(1:6),nrow = 2,byrow = T)\n",
    "m3"
   ]
  },
  {
   "cell_type": "markdown",
   "id": "29b45391",
   "metadata": {},
   "source": [
    "- 또 다른 방법은 벡터에 차원을 주는 방법"
   ]
  },
  {
   "cell_type": "markdown",
   "id": "6d58a02b",
   "metadata": {},
   "source": [
    "- dim 함수를 사용하면 행의 개수와 열의 개수를 지정하여 행렬로 변환 가능"
   ]
  },
  {
   "cell_type": "markdown",
   "id": "19953c8b",
   "metadata": {},
   "source": [
    "- 다음 페이지의 콘솔 창에서 볼 수 있듯이 dim 함수는 벡터를 행렬로 변환할 뿐만 아니라 주어진 행렬이 몇 개의 행과 몇 개의 열로 구성되어 있는지 행렬의 크기를 나타내기도 함"
   ]
  },
  {
   "cell_type": "code",
   "execution_count": 72,
   "id": "68b79d75",
   "metadata": {},
   "outputs": [
    {
     "data": {
      "text/html": [
       "<ol class=list-inline>\n",
       "\t<li>1</li>\n",
       "\t<li>2</li>\n",
       "\t<li>3</li>\n",
       "\t<li>4</li>\n",
       "\t<li>5</li>\n",
       "\t<li>6</li>\n",
       "</ol>\n"
      ],
      "text/latex": [
       "\\begin{enumerate*}\n",
       "\\item 1\n",
       "\\item 2\n",
       "\\item 3\n",
       "\\item 4\n",
       "\\item 5\n",
       "\\item 6\n",
       "\\end{enumerate*}\n"
      ],
      "text/markdown": [
       "1. 1\n",
       "2. 2\n",
       "3. 3\n",
       "4. 4\n",
       "5. 5\n",
       "6. 6\n",
       "\n",
       "\n"
      ],
      "text/plain": [
       "[1] 1 2 3 4 5 6"
      ]
     },
     "metadata": {},
     "output_type": "display_data"
    }
   ],
   "source": [
    "v1 <- c(1:6)\n",
    "v1"
   ]
  },
  {
   "cell_type": "code",
   "execution_count": 69,
   "id": "400b770f",
   "metadata": {},
   "outputs": [
    {
     "data": {
      "text/html": [
       "<table>\n",
       "<tbody>\n",
       "\t<tr><td>1</td><td>3</td><td>5</td></tr>\n",
       "\t<tr><td>2</td><td>4</td><td>6</td></tr>\n",
       "</tbody>\n",
       "</table>\n"
      ],
      "text/latex": [
       "\\begin{tabular}{lll}\n",
       "\t 1 & 3 & 5\\\\\n",
       "\t 2 & 4 & 6\\\\\n",
       "\\end{tabular}\n"
      ],
      "text/markdown": [
       "\n",
       "| 1 | 3 | 5 |\n",
       "| 2 | 4 | 6 |\n",
       "\n"
      ],
      "text/plain": [
       "     [,1] [,2] [,3]\n",
       "[1,] 1    3    5   \n",
       "[2,] 2    4    6   "
      ]
     },
     "metadata": {},
     "output_type": "display_data"
    }
   ],
   "source": [
    "dim(v1)<-c(2,3)\n",
    "v1"
   ]
  },
  {
   "cell_type": "markdown",
   "id": "1f65eda7",
   "metadata": {},
   "source": [
    "**3) 배열**"
   ]
  },
  {
   "cell_type": "markdown",
   "id": "92934244",
   "metadata": {},
   "source": [
    "- 3차원 이상의 구조를 갖는 벡터"
   ]
  },
  {
   "cell_type": "markdown",
   "id": "2f1de34d",
   "metadata": {},
   "source": [
    "- 배열 또한 벡터의 성질을 가지고 있으므로 하나의 배열에 포함된 데이터는 모두 같은 타입이어야 함."
   ]
  },
  {
   "cell_type": "markdown",
   "id": "36430096",
   "metadata": {},
   "source": [
    "- array를 사용하여 배열을 만들 수 있으나 몇 차원의 구조를 갖는지 dim 옵션에 명시해야함"
   ]
  },
  {
   "cell_type": "markdown",
   "id": "588c3892",
   "metadata": {},
   "source": [
    "- 그렇지 않으면 1차원 벡터가 생성된다."
   ]
  },
  {
   "cell_type": "code",
   "execution_count": 73,
   "id": "9e3256f1",
   "metadata": {},
   "outputs": [],
   "source": [
    "a1 <- array(c(1:12),dim=c(2,3,2))"
   ]
  },
  {
   "cell_type": "markdown",
   "id": "a777cab1",
   "metadata": {},
   "source": [
    "- 또 다른 방법으로 행렬과 마찬가지로 dim 함수를 사용해서 벡터에 차원을 지정해 만들 수 있음"
   ]
  },
  {
   "cell_type": "code",
   "execution_count": 71,
   "id": "e73ce6e5",
   "metadata": {},
   "outputs": [],
   "source": [
    "a2 <- c(1:12)\n",
    "dim(a2) <- c(2,3,2)"
   ]
  },
  {
   "cell_type": "markdown",
   "id": "3e28b035",
   "metadata": {},
   "source": [
    "**4) 리스트**"
   ]
  },
  {
   "cell_type": "markdown",
   "id": "7615ee81",
   "metadata": {},
   "source": [
    "- 리스트는 데이터 타입, 데이터 구조에 상관없이 사용자가 원하는 모든 것을 저장할 수 있는 자료구조  \n",
    "  즉, 리스트는 성분 간에 이질적인 특징을 가짐\n"
   ]
  },
  {
   "cell_type": "markdown",
   "id": "897a77e3",
   "metadata": {},
   "source": [
    "- R 콘솔에서 list()를 사용해서 list를 담을 변수를 선언하고 첫 번째 성분으로 숫자형 데이터를, 두번째 성분으로 벡터를, 세 번째 성분으로 행렬을, 네 번째 성분으로는 배열을 담은 뒤 리스트를 출력한 결과"
   ]
  },
  {
   "cell_type": "code",
   "execution_count": 75,
   "id": "0c254ab9",
   "metadata": {},
   "outputs": [],
   "source": [
    "L <- list()\n",
    "L[[1]] <- 5\n",
    "L[[2]] <- c(1:6)\n",
    "L[[3]] <- matrix(c(1:6),nrow=2)\n",
    "L[[4]] <- array(c(1:12),dim=c(2,3,2))"
   ]
  },
  {
   "cell_type": "markdown",
   "id": "bab2965b",
   "metadata": {},
   "source": [
    "**5) 데이터프레임**"
   ]
  },
  {
   "cell_type": "markdown",
   "id": "023a20a9",
   "metadata": {},
   "source": [
    "- 데이터프레임은 데이터 분석을 위한 2차원 구조를 갖는 관계형 데이터 구조로서 R에서 가장 많이 활용되는 데이터 구조"
   ]
  },
  {
   "cell_type": "markdown",
   "id": "f82f4697",
   "metadata": {},
   "source": [
    "- 행렬과 같은 모양을 갖지만 여러 개의 벡터로 구성되어 있기 때문에 각 열은 서로 다른 타입의 데이터를 가질 수 있음"
   ]
  },
  {
   "cell_type": "code",
   "execution_count": 76,
   "id": "f02aca7a",
   "metadata": {},
   "outputs": [
    {
     "data": {
      "text/html": [
       "<table>\n",
       "<thead><tr><th scope=col>v1</th><th scope=col>v2</th></tr></thead>\n",
       "<tbody>\n",
       "\t<tr><td>1</td><td>a</td></tr>\n",
       "\t<tr><td>2</td><td>b</td></tr>\n",
       "\t<tr><td>3</td><td>c</td></tr>\n",
       "</tbody>\n",
       "</table>\n"
      ],
      "text/latex": [
       "\\begin{tabular}{r|ll}\n",
       " v1 & v2\\\\\n",
       "\\hline\n",
       "\t 1 & a\\\\\n",
       "\t 2 & b\\\\\n",
       "\t 3 & c\\\\\n",
       "\\end{tabular}\n"
      ],
      "text/markdown": [
       "\n",
       "| v1 | v2 |\n",
       "|---|---|\n",
       "| 1 | a |\n",
       "| 2 | b |\n",
       "| 3 | c |\n",
       "\n"
      ],
      "text/plain": [
       "  v1 v2\n",
       "1 1  a \n",
       "2 2  b \n",
       "3 3  c "
      ]
     },
     "metadata": {},
     "output_type": "display_data"
    }
   ],
   "source": [
    "v1 <- c(1, 2, 3)\n",
    "v2 <- c(\"a\", \"b\", \"c\")\n",
    "df1 <- data.frame(v1, v2)\n",
    "df1"
   ]
  },
  {
   "cell_type": "markdown",
   "id": "51722587",
   "metadata": {},
   "source": [
    "> ***참고*** *&nbsp;&nbsp;배열의 시작 인덱스 값*  \n",
    " *: 파이썬, 자바, C등 많은 언어는 배열의 시작 인덱스 값을 0으로 갖지만, R의 벡터는 시작 인덱스 값을 1로 갖는다.*"
   ]
  },
  {
   "cell_type": "markdown",
   "id": "d6db507e",
   "metadata": {},
   "source": [
    "### (3) R 내장 함수"
   ]
  },
  {
   "cell_type": "markdown",
   "id": "864f9683",
   "metadata": {},
   "source": [
    "**1) 기본함수**"
   ]
  },
  {
   "cell_type": "markdown",
   "id": "fe275806",
   "metadata": {},
   "source": [
    "함수|내용\n",
    ":------|:---\n",
    "help() 또는 ?|함수들의 도움말.\n",
    "paste()|문자열을 이어 붙임.\n",
    "seq()|시작값, 끝값, 간격으로 수열을 생성.\n",
    "rep()|주어진 데이터를 일정 횟수만큼 반복.\n",
    "rm()|대입 연산자에 의해 생성된 변수를 삭제.\n",
    "ls()|현재 생성된 변수들의 리스트를 보여줌.\n",
    "print()|값을 콘솔창에 출력."
   ]
  },
  {
   "cell_type": "code",
   "execution_count": 45,
   "id": "b69b0ed1",
   "metadata": {},
   "outputs": [],
   "source": [
    "help(paste) # 명령어 입력 후 우측 하단 도움말에 결과가 출력."
   ]
  },
  {
   "cell_type": "code",
   "execution_count": 77,
   "id": "eff523d7",
   "metadata": {},
   "outputs": [],
   "source": [
    "?paste  "
   ]
  },
  {
   "cell_type": "code",
   "execution_count": 79,
   "id": "ee734972",
   "metadata": {},
   "outputs": [
    {
     "data": {
      "text/html": [
       "'This is a pen'"
      ],
      "text/latex": [
       "'This is a pen'"
      ],
      "text/markdown": [
       "'This is a pen'"
      ],
      "text/plain": [
       "[1] \"This is a pen\""
      ]
     },
     "metadata": {},
     "output_type": "display_data"
    }
   ],
   "source": [
    "paste(\"This is\", \"a pen\")"
   ]
  },
  {
   "cell_type": "code",
   "execution_count": 80,
   "id": "8924505d",
   "metadata": {},
   "outputs": [
    {
     "data": {
      "text/html": [
       "<ol class=list-inline>\n",
       "\t<li>1</li>\n",
       "\t<li>3</li>\n",
       "\t<li>5</li>\n",
       "\t<li>7</li>\n",
       "\t<li>9</li>\n",
       "</ol>\n"
      ],
      "text/latex": [
       "\\begin{enumerate*}\n",
       "\\item 1\n",
       "\\item 3\n",
       "\\item 5\n",
       "\\item 7\n",
       "\\item 9\n",
       "\\end{enumerate*}\n"
      ],
      "text/markdown": [
       "1. 1\n",
       "2. 3\n",
       "3. 5\n",
       "4. 7\n",
       "5. 9\n",
       "\n",
       "\n"
      ],
      "text/plain": [
       "[1] 1 3 5 7 9"
      ]
     },
     "metadata": {},
     "output_type": "display_data"
    }
   ],
   "source": [
    "seq(1,10,by=2)"
   ]
  },
  {
   "cell_type": "code",
   "execution_count": 81,
   "id": "95030928",
   "metadata": {},
   "outputs": [
    {
     "data": {
      "text/html": [
       "<ol class=list-inline>\n",
       "\t<li>1</li>\n",
       "\t<li>1</li>\n",
       "\t<li>1</li>\n",
       "\t<li>1</li>\n",
       "\t<li>1</li>\n",
       "</ol>\n"
      ],
      "text/latex": [
       "\\begin{enumerate*}\n",
       "\\item 1\n",
       "\\item 1\n",
       "\\item 1\n",
       "\\item 1\n",
       "\\item 1\n",
       "\\end{enumerate*}\n"
      ],
      "text/markdown": [
       "1. 1\n",
       "2. 1\n",
       "3. 1\n",
       "4. 1\n",
       "5. 1\n",
       "\n",
       "\n"
      ],
      "text/plain": [
       "[1] 1 1 1 1 1"
      ]
     },
     "metadata": {},
     "output_type": "display_data"
    }
   ],
   "source": [
    "rep(1, 5)"
   ]
  },
  {
   "cell_type": "code",
   "execution_count": 83,
   "id": "b44f2099",
   "metadata": {},
   "outputs": [
    {
     "data": {
      "text/html": [
       "1"
      ],
      "text/latex": [
       "1"
      ],
      "text/markdown": [
       "1"
      ],
      "text/plain": [
       "[1] 1"
      ]
     },
     "metadata": {},
     "output_type": "display_data"
    }
   ],
   "source": [
    "a <- 1\n",
    "a"
   ]
  },
  {
   "cell_type": "code",
   "execution_count": 84,
   "id": "8e870511",
   "metadata": {},
   "outputs": [
    {
     "ename": "ERROR",
     "evalue": "Error in eval(expr, envir, enclos): 객체 'a'를 찾을 수 없습니다\n",
     "output_type": "error",
     "traceback": [
      "Error in eval(expr, envir, enclos): 객체 'a'를 찾을 수 없습니다\nTraceback:\n"
     ]
    }
   ],
   "source": [
    "rm(a)\n",
    "a"
   ]
  },
  {
   "cell_type": "code",
   "execution_count": 85,
   "id": "f0dd0c53",
   "metadata": {},
   "outputs": [
    {
     "data": {
      "text/html": [
       "<ol class=list-inline>\n",
       "\t<li>'a1'</li>\n",
       "\t<li>'a2'</li>\n",
       "\t<li>'b0'</li>\n",
       "\t<li>'b00'</li>\n",
       "\t<li>'b1'</li>\n",
       "\t<li>'c_age'</li>\n",
       "\t<li>'coeffs'</li>\n",
       "\t<li>'coordinates'</li>\n",
       "\t<li>'df1'</li>\n",
       "\t<li>'DS'</li>\n",
       "\t<li>'DS2015'</li>\n",
       "\t<li>'ei'</li>\n",
       "\t<li>'exp2015'</li>\n",
       "\t<li>'exp2015_0'</li>\n",
       "\t<li>'exp2015_1'</li>\n",
       "\t<li>'L'</li>\n",
       "\t<li>'lm'</li>\n",
       "\t<li>'logical'</li>\n",
       "\t<li>'m1'</li>\n",
       "\t<li>'m2'</li>\n",
       "\t<li>'m3'</li>\n",
       "\t<li>'mu'</li>\n",
       "\t<li>'mu_0'</li>\n",
       "\t<li>'mu_1'</li>\n",
       "\t<li>'mu0'</li>\n",
       "\t<li>'n'</li>\n",
       "\t<li>'nDS'</li>\n",
       "\t<li>'number1'</li>\n",
       "\t<li>'number2'</li>\n",
       "\t<li>'Q.3.4.lm'</li>\n",
       "\t<li>'q3.3.lm'</li>\n",
       "\t<li>'q3.3.lm.mse'</li>\n",
       "\t<li>'rxy'</li>\n",
       "\t<li>'sample_size'</li>\n",
       "\t<li>'scale'</li>\n",
       "\t<li>'sigma'</li>\n",
       "\t<li>'string1'</li>\n",
       "\t<li>'string2'</li>\n",
       "\t<li>'sxx'</li>\n",
       "\t<li>'sxy'</li>\n",
       "\t<li>'syy'</li>\n",
       "\t<li>'TED'</li>\n",
       "\t<li>'TRD'</li>\n",
       "\t<li>'v1'</li>\n",
       "\t<li>'v2'</li>\n",
       "\t<li>'v4'</li>\n",
       "\t<li>'v5'</li>\n",
       "\t<li>'x'</li>\n",
       "\t<li>'X1'</li>\n",
       "\t<li>'X2'</li>\n",
       "\t<li>'xa'</li>\n",
       "\t<li>'xm'</li>\n",
       "\t<li>'xmax'</li>\n",
       "\t<li>'xmax2'</li>\n",
       "\t<li>'xmin'</li>\n",
       "\t<li>'xmin2'</li>\n",
       "\t<li>'xp'</li>\n",
       "\t<li>'xq'</li>\n",
       "\t<li>'xq2'</li>\n",
       "\t<li>'xrange'</li>\n",
       "\t<li>'y'</li>\n",
       "\t<li>'y1'</li>\n",
       "\t<li>'yc'</li>\n",
       "\t<li>'ym'</li>\n",
       "\t<li>'yp'</li>\n",
       "\t<li>'yq'</li>\n",
       "\t<li>'yq2'</li>\n",
       "</ol>\n"
      ],
      "text/latex": [
       "\\begin{enumerate*}\n",
       "\\item 'a1'\n",
       "\\item 'a2'\n",
       "\\item 'b0'\n",
       "\\item 'b00'\n",
       "\\item 'b1'\n",
       "\\item 'c\\_age'\n",
       "\\item 'coeffs'\n",
       "\\item 'coordinates'\n",
       "\\item 'df1'\n",
       "\\item 'DS'\n",
       "\\item 'DS2015'\n",
       "\\item 'ei'\n",
       "\\item 'exp2015'\n",
       "\\item 'exp2015\\_0'\n",
       "\\item 'exp2015\\_1'\n",
       "\\item 'L'\n",
       "\\item 'lm'\n",
       "\\item 'logical'\n",
       "\\item 'm1'\n",
       "\\item 'm2'\n",
       "\\item 'm3'\n",
       "\\item 'mu'\n",
       "\\item 'mu\\_0'\n",
       "\\item 'mu\\_1'\n",
       "\\item 'mu0'\n",
       "\\item 'n'\n",
       "\\item 'nDS'\n",
       "\\item 'number1'\n",
       "\\item 'number2'\n",
       "\\item 'Q.3.4.lm'\n",
       "\\item 'q3.3.lm'\n",
       "\\item 'q3.3.lm.mse'\n",
       "\\item 'rxy'\n",
       "\\item 'sample\\_size'\n",
       "\\item 'scale'\n",
       "\\item 'sigma'\n",
       "\\item 'string1'\n",
       "\\item 'string2'\n",
       "\\item 'sxx'\n",
       "\\item 'sxy'\n",
       "\\item 'syy'\n",
       "\\item 'TED'\n",
       "\\item 'TRD'\n",
       "\\item 'v1'\n",
       "\\item 'v2'\n",
       "\\item 'v4'\n",
       "\\item 'v5'\n",
       "\\item 'x'\n",
       "\\item 'X1'\n",
       "\\item 'X2'\n",
       "\\item 'xa'\n",
       "\\item 'xm'\n",
       "\\item 'xmax'\n",
       "\\item 'xmax2'\n",
       "\\item 'xmin'\n",
       "\\item 'xmin2'\n",
       "\\item 'xp'\n",
       "\\item 'xq'\n",
       "\\item 'xq2'\n",
       "\\item 'xrange'\n",
       "\\item 'y'\n",
       "\\item 'y1'\n",
       "\\item 'yc'\n",
       "\\item 'ym'\n",
       "\\item 'yp'\n",
       "\\item 'yq'\n",
       "\\item 'yq2'\n",
       "\\end{enumerate*}\n"
      ],
      "text/markdown": [
       "1. 'a1'\n",
       "2. 'a2'\n",
       "3. 'b0'\n",
       "4. 'b00'\n",
       "5. 'b1'\n",
       "6. 'c_age'\n",
       "7. 'coeffs'\n",
       "8. 'coordinates'\n",
       "9. 'df1'\n",
       "10. 'DS'\n",
       "11. 'DS2015'\n",
       "12. 'ei'\n",
       "13. 'exp2015'\n",
       "14. 'exp2015_0'\n",
       "15. 'exp2015_1'\n",
       "16. 'L'\n",
       "17. 'lm'\n",
       "18. 'logical'\n",
       "19. 'm1'\n",
       "20. 'm2'\n",
       "21. 'm3'\n",
       "22. 'mu'\n",
       "23. 'mu_0'\n",
       "24. 'mu_1'\n",
       "25. 'mu0'\n",
       "26. 'n'\n",
       "27. 'nDS'\n",
       "28. 'number1'\n",
       "29. 'number2'\n",
       "30. 'Q.3.4.lm'\n",
       "31. 'q3.3.lm'\n",
       "32. 'q3.3.lm.mse'\n",
       "33. 'rxy'\n",
       "34. 'sample_size'\n",
       "35. 'scale'\n",
       "36. 'sigma'\n",
       "37. 'string1'\n",
       "38. 'string2'\n",
       "39. 'sxx'\n",
       "40. 'sxy'\n",
       "41. 'syy'\n",
       "42. 'TED'\n",
       "43. 'TRD'\n",
       "44. 'v1'\n",
       "45. 'v2'\n",
       "46. 'v4'\n",
       "47. 'v5'\n",
       "48. 'x'\n",
       "49. 'X1'\n",
       "50. 'X2'\n",
       "51. 'xa'\n",
       "52. 'xm'\n",
       "53. 'xmax'\n",
       "54. 'xmax2'\n",
       "55. 'xmin'\n",
       "56. 'xmin2'\n",
       "57. 'xp'\n",
       "58. 'xq'\n",
       "59. 'xq2'\n",
       "60. 'xrange'\n",
       "61. 'y'\n",
       "62. 'y1'\n",
       "63. 'yc'\n",
       "64. 'ym'\n",
       "65. 'yp'\n",
       "66. 'yq'\n",
       "67. 'yq2'\n",
       "\n",
       "\n"
      ],
      "text/plain": [
       " [1] \"a1\"          \"a2\"          \"b0\"          \"b00\"         \"b1\"         \n",
       " [6] \"c_age\"       \"coeffs\"      \"coordinates\" \"df1\"         \"DS\"         \n",
       "[11] \"DS2015\"      \"ei\"          \"exp2015\"     \"exp2015_0\"   \"exp2015_1\"  \n",
       "[16] \"L\"           \"lm\"          \"logical\"     \"m1\"          \"m2\"         \n",
       "[21] \"m3\"          \"mu\"          \"mu_0\"        \"mu_1\"        \"mu0\"        \n",
       "[26] \"n\"           \"nDS\"         \"number1\"     \"number2\"     \"Q.3.4.lm\"   \n",
       "[31] \"q3.3.lm\"     \"q3.3.lm.mse\" \"rxy\"         \"sample_size\" \"scale\"      \n",
       "[36] \"sigma\"       \"string1\"     \"string2\"     \"sxx\"         \"sxy\"        \n",
       "[41] \"syy\"         \"TED\"         \"TRD\"         \"v1\"          \"v2\"         \n",
       "[46] \"v4\"          \"v5\"          \"x\"           \"X1\"          \"X2\"         \n",
       "[51] \"xa\"          \"xm\"          \"xmax\"        \"xmax2\"       \"xmin\"       \n",
       "[56] \"xmin2\"       \"xp\"          \"xq\"          \"xq2\"         \"xrange\"     \n",
       "[61] \"y\"           \"y1\"          \"yc\"          \"ym\"          \"yp\"         \n",
       "[66] \"yq\"          \"yq2\"        "
      ]
     },
     "metadata": {},
     "output_type": "display_data"
    }
   ],
   "source": [
    "ls()"
   ]
  },
  {
   "cell_type": "code",
   "execution_count": 86,
   "id": "540ba2c3",
   "metadata": {},
   "outputs": [
    {
     "name": "stdout",
     "output_type": "stream",
     "text": [
      "[1] 10\n"
     ]
    }
   ],
   "source": [
    "print(10)"
   ]
  },
  {
   "cell_type": "markdown",
   "id": "3a88504a",
   "metadata": {},
   "source": [
    "**2) 통계함수**"
   ]
  },
  {
   "cell_type": "markdown",
   "id": "6fbe4018",
   "metadata": {},
   "source": [
    "함수|내용|예시\n",
    ":------|:---|:---\n",
    "sum|합|sum(vector1)\n",
    "mean|평균|mean(vector1)\n",
    "median|중앙값|median(vector1)\n",
    "var|표본 분산|var(vector1)\n",
    "sd|표본 표준편차|sd(vector1)\n",
    "max|최댓값|max(vector1)\n",
    "min|최솟값|min(vector1)\n",
    "range|최댓값과 최솟값|range(vector1)\n",
    "summary|요약값|summary(vector1)"
   ]
  },
  {
   "cell_type": "code",
   "execution_count": 88,
   "id": "9dac2151",
   "metadata": {},
   "outputs": [
    {
     "data": {
      "text/html": [
       "45"
      ],
      "text/latex": [
       "45"
      ],
      "text/markdown": [
       "45"
      ],
      "text/plain": [
       "[1] 45"
      ]
     },
     "metadata": {},
     "output_type": "display_data"
    }
   ],
   "source": [
    "v1 <- c(1:9)\n",
    "sum(v1)"
   ]
  },
  {
   "cell_type": "code",
   "execution_count": 89,
   "id": "fa76ebae",
   "metadata": {},
   "outputs": [
    {
     "data": {
      "text/html": [
       "5"
      ],
      "text/latex": [
       "5"
      ],
      "text/markdown": [
       "5"
      ],
      "text/plain": [
       "[1] 5"
      ]
     },
     "metadata": {},
     "output_type": "display_data"
    }
   ],
   "source": [
    "mean(v1)"
   ]
  },
  {
   "cell_type": "code",
   "execution_count": 90,
   "id": "1a173d33",
   "metadata": {},
   "outputs": [
    {
     "data": {
      "text/html": [
       "5"
      ],
      "text/latex": [
       "5"
      ],
      "text/markdown": [
       "5"
      ],
      "text/plain": [
       "[1] 5"
      ]
     },
     "metadata": {},
     "output_type": "display_data"
    }
   ],
   "source": [
    "median(v1)"
   ]
  },
  {
   "cell_type": "code",
   "execution_count": 91,
   "id": "8b8232d9",
   "metadata": {},
   "outputs": [
    {
     "data": {
      "text/html": [
       "7.5"
      ],
      "text/latex": [
       "7.5"
      ],
      "text/markdown": [
       "7.5"
      ],
      "text/plain": [
       "[1] 7.5"
      ]
     },
     "metadata": {},
     "output_type": "display_data"
    }
   ],
   "source": [
    "var(v1)"
   ]
  },
  {
   "cell_type": "code",
   "execution_count": 92,
   "id": "e1a452fc",
   "metadata": {},
   "outputs": [
    {
     "data": {
      "text/html": [
       "2.73861278752583"
      ],
      "text/latex": [
       "2.73861278752583"
      ],
      "text/markdown": [
       "2.73861278752583"
      ],
      "text/plain": [
       "[1] 2.738613"
      ]
     },
     "metadata": {},
     "output_type": "display_data"
    }
   ],
   "source": [
    "sd(v1)"
   ]
  },
  {
   "cell_type": "code",
   "execution_count": 93,
   "id": "82a20613",
   "metadata": {},
   "outputs": [
    {
     "data": {
      "text/html": [
       "9"
      ],
      "text/latex": [
       "9"
      ],
      "text/markdown": [
       "9"
      ],
      "text/plain": [
       "[1] 9"
      ]
     },
     "metadata": {},
     "output_type": "display_data"
    }
   ],
   "source": [
    "max(v1)"
   ]
  },
  {
   "cell_type": "code",
   "execution_count": 94,
   "id": "e34313da",
   "metadata": {},
   "outputs": [
    {
     "data": {
      "text/html": [
       "1"
      ],
      "text/latex": [
       "1"
      ],
      "text/markdown": [
       "1"
      ],
      "text/plain": [
       "[1] 1"
      ]
     },
     "metadata": {},
     "output_type": "display_data"
    }
   ],
   "source": [
    "min(v1)"
   ]
  },
  {
   "cell_type": "code",
   "execution_count": 95,
   "id": "2ae5fce5",
   "metadata": {},
   "outputs": [
    {
     "data": {
      "text/html": [
       "<ol class=list-inline>\n",
       "\t<li>1</li>\n",
       "\t<li>9</li>\n",
       "</ol>\n"
      ],
      "text/latex": [
       "\\begin{enumerate*}\n",
       "\\item 1\n",
       "\\item 9\n",
       "\\end{enumerate*}\n"
      ],
      "text/markdown": [
       "1. 1\n",
       "2. 9\n",
       "\n",
       "\n"
      ],
      "text/plain": [
       "[1] 1 9"
      ]
     },
     "metadata": {},
     "output_type": "display_data"
    }
   ],
   "source": [
    "range(v1)"
   ]
  },
  {
   "cell_type": "code",
   "execution_count": 96,
   "id": "d5ee1b07",
   "metadata": {},
   "outputs": [
    {
     "data": {
      "text/plain": [
       "   Min. 1st Qu.  Median    Mean 3rd Qu.    Max. \n",
       "      1       3       5       5       7       9 "
      ]
     },
     "metadata": {},
     "output_type": "display_data"
    }
   ],
   "source": [
    "summary(v1)"
   ]
  },
  {
   "cell_type": "markdown",
   "id": "1d5c9633",
   "metadata": {},
   "source": [
    "### (4) R 데이터 핸들링"
   ]
  },
  {
   "cell_type": "markdown",
   "id": "317006b8",
   "metadata": {},
   "source": [
    "**1) 데이터 이름 변경**"
   ]
  },
  {
   "cell_type": "markdown",
   "id": "cdf0dd7d",
   "metadata": {},
   "source": [
    "- 행렬, 배열, 데이터프레임과 같이 2차원 이상의 데이터 구조는 colnames와 rownames함수를 사용하여 행과 열의 이름을 알 수 있고 이름 지정이 가능"
   ]
  },
  {
   "cell_type": "code",
   "execution_count": 97,
   "id": "f8cabfd3",
   "metadata": {},
   "outputs": [
    {
     "data": {
      "text/html": [
       "<table>\n",
       "<thead><tr><th></th><th scope=col>c1</th><th scope=col>c2</th><th scope=col>c3</th></tr></thead>\n",
       "<tbody>\n",
       "\t<tr><th scope=row>r1</th><td>1</td><td>3</td><td>5</td></tr>\n",
       "\t<tr><th scope=row>r2</th><td>2</td><td>4</td><td>6</td></tr>\n",
       "</tbody>\n",
       "</table>\n"
      ],
      "text/latex": [
       "\\begin{tabular}{r|lll}\n",
       "  & c1 & c2 & c3\\\\\n",
       "\\hline\n",
       "\tr1 & 1 & 3 & 5\\\\\n",
       "\tr2 & 2 & 4 & 6\\\\\n",
       "\\end{tabular}\n"
      ],
      "text/markdown": [
       "\n",
       "| <!--/--> | c1 | c2 | c3 |\n",
       "|---|---|---|---|\n",
       "| r1 | 1 | 3 | 5 |\n",
       "| r2 | 2 | 4 | 6 |\n",
       "\n"
      ],
      "text/plain": [
       "   c1 c2 c3\n",
       "r1 1  3  5 \n",
       "r2 2  4  6 "
      ]
     },
     "metadata": {},
     "output_type": "display_data"
    }
   ],
   "source": [
    "m1 <- matrix(c(1:6), nrow=2)\n",
    "colnames(m1) <- c(\"c1\", \"c2\", \"c3\")\n",
    "rownames(m1) <- c(\"r1\", \"r2\")\n",
    "m1"
   ]
  },
  {
   "cell_type": "code",
   "execution_count": 98,
   "id": "541d86ce",
   "metadata": {},
   "outputs": [
    {
     "data": {
      "text/html": [
       "<ol class=list-inline>\n",
       "\t<li>'c1'</li>\n",
       "\t<li>'c2'</li>\n",
       "\t<li>'c3'</li>\n",
       "</ol>\n"
      ],
      "text/latex": [
       "\\begin{enumerate*}\n",
       "\\item 'c1'\n",
       "\\item 'c2'\n",
       "\\item 'c3'\n",
       "\\end{enumerate*}\n"
      ],
      "text/markdown": [
       "1. 'c1'\n",
       "2. 'c2'\n",
       "3. 'c3'\n",
       "\n",
       "\n"
      ],
      "text/plain": [
       "[1] \"c1\" \"c2\" \"c3\""
      ]
     },
     "metadata": {},
     "output_type": "display_data"
    }
   ],
   "source": [
    "colnames(m1)"
   ]
  },
  {
   "cell_type": "code",
   "execution_count": 102,
   "id": "e98655c5",
   "metadata": {
    "scrolled": true
   },
   "outputs": [
    {
     "data": {
      "text/html": [
       "<ol class=list-inline>\n",
       "\t<li>'r1'</li>\n",
       "\t<li>'r2'</li>\n",
       "</ol>\n"
      ],
      "text/latex": [
       "\\begin{enumerate*}\n",
       "\\item 'r1'\n",
       "\\item 'r2'\n",
       "\\end{enumerate*}\n"
      ],
      "text/markdown": [
       "1. 'r1'\n",
       "2. 'r2'\n",
       "\n",
       "\n"
      ],
      "text/plain": [
       "[1] \"r1\" \"r2\""
      ]
     },
     "metadata": {},
     "output_type": "display_data"
    }
   ],
   "source": [
    "rownames(m1)"
   ]
  },
  {
   "cell_type": "code",
   "execution_count": 180,
   "id": "0833cc44",
   "metadata": {},
   "outputs": [
    {
     "data": {
      "text/html": [
       "<table>\n",
       "<thead><tr><th></th><th scope=col>c1</th><th scope=col>c2</th></tr></thead>\n",
       "<tbody>\n",
       "\t<tr><th scope=row>r1</th><td>1</td><td>4</td></tr>\n",
       "\t<tr><th scope=row>r2</th><td>2</td><td>5</td></tr>\n",
       "\t<tr><th scope=row>r3</th><td>3</td><td>6</td></tr>\n",
       "</tbody>\n",
       "</table>\n"
      ],
      "text/latex": [
       "\\begin{tabular}{r|ll}\n",
       "  & c1 & c2\\\\\n",
       "\\hline\n",
       "\tr1 & 1 & 4\\\\\n",
       "\tr2 & 2 & 5\\\\\n",
       "\tr3 & 3 & 6\\\\\n",
       "\\end{tabular}\n"
      ],
      "text/markdown": [
       "\n",
       "| <!--/--> | c1 | c2 |\n",
       "|---|---|---|\n",
       "| r1 | 1 | 4 |\n",
       "| r2 | 2 | 5 |\n",
       "| r3 | 3 | 6 |\n",
       "\n"
      ],
      "text/plain": [
       "   c1 c2\n",
       "r1 1  4 \n",
       "r2 2  5 \n",
       "r3 3  6 "
      ]
     },
     "metadata": {},
     "output_type": "display_data"
    }
   ],
   "source": [
    "df1 <- data.frame(x = c(1, 2, 3), y = c(4, 5, 6))\n",
    "colnames(df1) <- c(\"c1\", \"c2\")\n",
    "rownames(df1) <- c(\"r1\", \"r2\", \"r3\")\n",
    "df1"
   ]
  },
  {
   "cell_type": "code",
   "execution_count": 104,
   "id": "05a0a772",
   "metadata": {},
   "outputs": [
    {
     "data": {
      "text/html": [
       "<ol class=list-inline>\n",
       "\t<li>'c1'</li>\n",
       "\t<li>'c2'</li>\n",
       "</ol>\n"
      ],
      "text/latex": [
       "\\begin{enumerate*}\n",
       "\\item 'c1'\n",
       "\\item 'c2'\n",
       "\\end{enumerate*}\n"
      ],
      "text/markdown": [
       "1. 'c1'\n",
       "2. 'c2'\n",
       "\n",
       "\n"
      ],
      "text/plain": [
       "[1] \"c1\" \"c2\""
      ]
     },
     "metadata": {},
     "output_type": "display_data"
    }
   ],
   "source": [
    "colnames(df1)"
   ]
  },
  {
   "cell_type": "code",
   "execution_count": 105,
   "id": "3bd58549",
   "metadata": {},
   "outputs": [
    {
     "data": {
      "text/html": [
       "<ol class=list-inline>\n",
       "\t<li>'r1'</li>\n",
       "\t<li>'r2'</li>\n",
       "\t<li>'r3'</li>\n",
       "</ol>\n"
      ],
      "text/latex": [
       "\\begin{enumerate*}\n",
       "\\item 'r1'\n",
       "\\item 'r2'\n",
       "\\item 'r3'\n",
       "\\end{enumerate*}\n"
      ],
      "text/markdown": [
       "1. 'r1'\n",
       "2. 'r2'\n",
       "3. 'r3'\n",
       "\n",
       "\n"
      ],
      "text/plain": [
       "[1] \"r1\" \"r2\" \"r3\""
      ]
     },
     "metadata": {},
     "output_type": "display_data"
    }
   ],
   "source": [
    "rownames(df1)"
   ]
  },
  {
   "cell_type": "markdown",
   "id": "6f2d2f6a",
   "metadata": {},
   "source": [
    "**2) 데이터 추출**"
   ]
  },
  {
   "cell_type": "markdown",
   "id": "4bea0167",
   "metadata": {},
   "source": [
    "- R이 보유한 여러 데이터 구조(벡터, 행렬, 배열, 리스트, 데이터프레임)은 모두 인덱싱을 지원"
   ]
  },
  {
   "cell_type": "markdown",
   "id": "8c77bd0e",
   "metadata": {},
   "source": [
    "- 대괄호 기호([, ])를 사용해 원하는 위치의 데이터를 쉽게 얻을 수 있고 행과 열의 이름으로도 데이터를 얻을 수 있음"
   ]
  },
  {
   "cell_type": "code",
   "execution_count": 106,
   "id": "6947cc03",
   "metadata": {},
   "outputs": [
    {
     "data": {
      "text/html": [
       "6"
      ],
      "text/latex": [
       "6"
      ],
      "text/markdown": [
       "6"
      ],
      "text/plain": [
       "[1] 6"
      ]
     },
     "metadata": {},
     "output_type": "display_data"
    }
   ],
   "source": [
    "v1 <- c(3,6,9,12)\n",
    "v1[2]"
   ]
  },
  {
   "cell_type": "code",
   "execution_count": 107,
   "id": "736da2b5",
   "metadata": {},
   "outputs": [
    {
     "data": {
      "text/html": [
       "5"
      ],
      "text/latex": [
       "5"
      ],
      "text/markdown": [
       "5"
      ],
      "text/plain": [
       "[1] 5"
      ]
     },
     "metadata": {},
     "output_type": "display_data"
    }
   ],
   "source": [
    "m1 <- matrix(c(1:6), nrow=3)\n",
    "m1[2,2]"
   ]
  },
  {
   "cell_type": "code",
   "execution_count": 108,
   "id": "47f03b0e",
   "metadata": {},
   "outputs": [
    {
     "data": {
      "text/html": [
       "<ol class=list-inline>\n",
       "\t<li>1</li>\n",
       "\t<li>2</li>\n",
       "\t<li>3</li>\n",
       "</ol>\n"
      ],
      "text/latex": [
       "\\begin{enumerate*}\n",
       "\\item 1\n",
       "\\item 2\n",
       "\\item 3\n",
       "\\end{enumerate*}\n"
      ],
      "text/markdown": [
       "1. 1\n",
       "2. 2\n",
       "3. 3\n",
       "\n",
       "\n"
      ],
      "text/plain": [
       "[1] 1 2 3"
      ]
     },
     "metadata": {},
     "output_type": "display_data"
    }
   ],
   "source": [
    "colnames(m1) <- c(\"c1\", \"c2\")\n",
    "m1[, \"c1\"]"
   ]
  },
  {
   "cell_type": "code",
   "execution_count": 109,
   "id": "c0b898ca",
   "metadata": {},
   "outputs": [
    {
     "data": {
      "text/html": [
       "6"
      ],
      "text/latex": [
       "6"
      ],
      "text/markdown": [
       "6"
      ],
      "text/plain": [
       "[1] 6"
      ]
     },
     "metadata": {},
     "output_type": "display_data"
    }
   ],
   "source": [
    "rownames(m1) <- c(\"r1\", \"r2\", \"r3\")\n",
    "m1[\"r3\", \"c2\"]"
   ]
  },
  {
   "cell_type": "markdown",
   "id": "c9767e1e",
   "metadata": {},
   "source": [
    "- 데이터프레임에서는 \\$ 기호를 사용하여 원하는 열의 데이터를 구할 수 있으며, [ ]와 혼용 가능"
   ]
  },
  {
   "cell_type": "code",
   "execution_count": 110,
   "id": "34594710",
   "metadata": {},
   "outputs": [
    {
     "data": {
      "text/html": [
       "<ol class=list-inline>\n",
       "\t<li>1</li>\n",
       "\t<li>2</li>\n",
       "\t<li>3</li>\n",
       "\t<li>4</li>\n",
       "\t<li>5</li>\n",
       "\t<li>6</li>\n",
       "</ol>\n"
      ],
      "text/latex": [
       "\\begin{enumerate*}\n",
       "\\item 1\n",
       "\\item 2\n",
       "\\item 3\n",
       "\\item 4\n",
       "\\item 5\n",
       "\\item 6\n",
       "\\end{enumerate*}\n"
      ],
      "text/markdown": [
       "1. 1\n",
       "2. 2\n",
       "3. 3\n",
       "4. 4\n",
       "5. 5\n",
       "6. 6\n",
       "\n",
       "\n"
      ],
      "text/plain": [
       "[1] 1 2 3 4 5 6"
      ]
     },
     "metadata": {},
     "output_type": "display_data"
    }
   ],
   "source": [
    "v1 <- c(1:6)\n",
    "v2 <- c(7:12)\n",
    "df1 <- data.frame(v1, v2)\n",
    "df1$v1"
   ]
  },
  {
   "cell_type": "code",
   "execution_count": 111,
   "id": "e5c41ff5",
   "metadata": {},
   "outputs": [
    {
     "data": {
      "text/html": [
       "9"
      ],
      "text/latex": [
       "9"
      ],
      "text/markdown": [
       "9"
      ],
      "text/plain": [
       "[1] 9"
      ]
     },
     "metadata": {},
     "output_type": "display_data"
    }
   ],
   "source": [
    "df1$v2[3]"
   ]
  },
  {
   "cell_type": "markdown",
   "id": "823ae780",
   "metadata": {},
   "source": [
    "**3) 데이터 결합**"
   ]
  },
  {
   "cell_type": "markdown",
   "id": "017c53ba",
   "metadata": {},
   "source": [
    "- 데이터를 행으로 결합하는 rbind와 열로 결합하는 cbind가 있음"
   ]
  },
  {
   "cell_type": "code",
   "execution_count": 112,
   "id": "1e087848",
   "metadata": {},
   "outputs": [
    {
     "data": {
      "text/html": [
       "<table>\n",
       "<tbody>\n",
       "\t<tr><th scope=row>v1</th><td>1</td><td>2</td><td>3</td></tr>\n",
       "\t<tr><th scope=row>v2</th><td>4</td><td>5</td><td>6</td></tr>\n",
       "</tbody>\n",
       "</table>\n"
      ],
      "text/latex": [
       "\\begin{tabular}{r|lll}\n",
       "\tv1 & 1 & 2 & 3\\\\\n",
       "\tv2 & 4 & 5 & 6\\\\\n",
       "\\end{tabular}\n"
      ],
      "text/markdown": [
       "\n",
       "| v1 | 1 | 2 | 3 |\n",
       "| v2 | 4 | 5 | 6 |\n",
       "\n"
      ],
      "text/plain": [
       "   [,1] [,2] [,3]\n",
       "v1 1    2    3   \n",
       "v2 4    5    6   "
      ]
     },
     "metadata": {},
     "output_type": "display_data"
    }
   ],
   "source": [
    "v1 <- c(1,2,3)\n",
    "v2 <- c(4,5,6)\n",
    "rbind(v1,v2)"
   ]
  },
  {
   "cell_type": "code",
   "execution_count": 113,
   "id": "ef9642e8",
   "metadata": {},
   "outputs": [
    {
     "data": {
      "text/html": [
       "<table>\n",
       "<thead><tr><th scope=col>v1</th><th scope=col>v2</th></tr></thead>\n",
       "<tbody>\n",
       "\t<tr><td>1</td><td>4</td></tr>\n",
       "\t<tr><td>2</td><td>5</td></tr>\n",
       "\t<tr><td>3</td><td>6</td></tr>\n",
       "</tbody>\n",
       "</table>\n"
      ],
      "text/latex": [
       "\\begin{tabular}{ll}\n",
       " v1 & v2\\\\\n",
       "\\hline\n",
       "\t 1 & 4\\\\\n",
       "\t 2 & 5\\\\\n",
       "\t 3 & 6\\\\\n",
       "\\end{tabular}\n"
      ],
      "text/markdown": [
       "\n",
       "| v1 | v2 |\n",
       "|---|---|\n",
       "| 1 | 4 |\n",
       "| 2 | 5 |\n",
       "| 3 | 6 |\n",
       "\n"
      ],
      "text/plain": [
       "     v1 v2\n",
       "[1,] 1  4 \n",
       "[2,] 2  5 \n",
       "[3,] 3  6 "
      ]
     },
     "metadata": {},
     "output_type": "display_data"
    }
   ],
   "source": [
    "cbind(v1,v2)"
   ]
  },
  {
   "cell_type": "markdown",
   "id": "73ea62c7",
   "metadata": {},
   "source": [
    "- 행렬과 행렬, 데이터프레임과 데이터프레임의 경우 행의 수 혹은 열의 수가 같을 경우 결합이 가능"
   ]
  },
  {
   "cell_type": "markdown",
   "id": "af0434e4",
   "metadata": {},
   "source": [
    "- 하지만 벡터와 벡터의 결합에서는 재사용 규칙으로 인해 부족한 데이터를 앞에서부터 재사용하여 결과를 반환"
   ]
  },
  {
   "cell_type": "code",
   "execution_count": 114,
   "id": "85bea6f6",
   "metadata": {},
   "outputs": [
    {
     "name": "stderr",
     "output_type": "stream",
     "text": [
      "Warning message in rbind(v1, v2):\n",
      "\"number of columns of result is not a multiple of vector length (arg 1)\""
     ]
    },
    {
     "data": {
      "text/html": [
       "<table>\n",
       "<tbody>\n",
       "\t<tr><th scope=row>v1</th><td>1</td><td>2</td><td>3</td><td>1</td><td>2</td></tr>\n",
       "\t<tr><th scope=row>v2</th><td>4</td><td>5</td><td>6</td><td>7</td><td>8</td></tr>\n",
       "</tbody>\n",
       "</table>\n"
      ],
      "text/latex": [
       "\\begin{tabular}{r|lllll}\n",
       "\tv1 & 1 & 2 & 3 & 1 & 2\\\\\n",
       "\tv2 & 4 & 5 & 6 & 7 & 8\\\\\n",
       "\\end{tabular}\n"
      ],
      "text/markdown": [
       "\n",
       "| v1 | 1 | 2 | 3 | 1 | 2 |\n",
       "| v2 | 4 | 5 | 6 | 7 | 8 |\n",
       "\n"
      ],
      "text/plain": [
       "   [,1] [,2] [,3] [,4] [,5]\n",
       "v1 1    2    3    1    2   \n",
       "v2 4    5    6    7    8   "
      ]
     },
     "metadata": {},
     "output_type": "display_data"
    }
   ],
   "source": [
    "v1 <- c(1,2,3)\n",
    "v2 <- c(4,5,6,7,8)\n",
    "rbind(v1,v2)"
   ]
  },
  {
   "cell_type": "markdown",
   "id": "f7bfed9d",
   "metadata": {},
   "source": [
    "### (5) 제어문"
   ]
  },
  {
   "cell_type": "markdown",
   "id": "da05c18a",
   "metadata": {},
   "source": [
    "**1) 반복문**"
   ]
  },
  {
   "cell_type": "markdown",
   "id": "3c02da83",
   "metadata": {},
   "source": [
    "- 반복문은 대표적인 제어문 중 하나로 특정 부분의 코드가 반복적으로 수행됨"
   ]
  },
  {
   "cell_type": "markdown",
   "id": "0caf2f28",
   "metadata": {},
   "source": [
    "- for 반복문과 while 반복문의 두 가지 종류가 있다."
   ]
  },
  {
   "cell_type": "code",
   "execution_count": 116,
   "id": "94b5116d",
   "metadata": {},
   "outputs": [
    {
     "name": "stdout",
     "output_type": "stream",
     "text": [
      "[1] 1\n",
      "[1] 2\n",
      "[1] 3\n"
     ]
    }
   ],
   "source": [
    "for(i in 1:3){\n",
    "    print(i)\n",
    "}"
   ]
  },
  {
   "cell_type": "code",
   "execution_count": 117,
   "id": "8f1a4155",
   "metadata": {},
   "outputs": [
    {
     "name": "stdout",
     "output_type": "stream",
     "text": [
      "[1] \"a\"\n",
      "[1] \"b\"\n",
      "[1] \"c\"\n"
     ]
    }
   ],
   "source": [
    "data <- c(\"a\", \"b\", \"c\")\n",
    "for (i in data) {\n",
    "    print(i)\n",
    "}"
   ]
  },
  {
   "cell_type": "code",
   "execution_count": 118,
   "id": "f1244c5b",
   "metadata": {},
   "outputs": [
    {
     "name": "stdout",
     "output_type": "stream",
     "text": [
      "[1] 0\n",
      "[1] 1\n",
      "[1] 2\n",
      "[1] 3\n",
      "[1] 4\n"
     ]
    }
   ],
   "source": [
    "i <- 0\n",
    "while(i<5){\n",
    "    print(i)\n",
    "    i<-i+1\n",
    "}"
   ]
  },
  {
   "cell_type": "markdown",
   "id": "52d56988",
   "metadata": {},
   "source": [
    "**2) 조건문**"
   ]
  },
  {
   "cell_type": "markdown",
   "id": "7d1f7f91",
   "metadata": {},
   "source": [
    "- 조건문은 반복문과 함께 가장 많이 사용되는 제어문"
   ]
  },
  {
   "cell_type": "markdown",
   "id": "46e014ec",
   "metadata": {},
   "source": [
    "- 참과 거짓에 따라 특정 코드가 수행될지 혹은 수행되지 않을지를 결정"
   ]
  },
  {
   "cell_type": "code",
   "execution_count": 119,
   "id": "ac93ef76",
   "metadata": {},
   "outputs": [
    {
     "name": "stdout",
     "output_type": "stream",
     "text": [
      "[1] \"number는 5와 같다.\"\n"
     ]
    }
   ],
   "source": [
    "number <- 5\n",
    "if(number<5){\n",
    "    print(\"number는 5보다 작다\")\n",
    "} else if (number > 5){\n",
    "    print('number는 5보다 크다')\n",
    "} else {\n",
    "    print(\"number는 5와 같다.\")\n",
    "}"
   ]
  },
  {
   "cell_type": "code",
   "execution_count": 120,
   "id": "bfe5f340",
   "metadata": {},
   "outputs": [
    {
     "name": "stdout",
     "output_type": "stream",
     "text": [
      "[1] \"number는 5보다 작다\"\n"
     ]
    }
   ],
   "source": [
    "number <- 3\n",
    "if(number<5){\n",
    "    print(\"number는 5보다 작다\")\n",
    "} else if (number > 5){\n",
    "    print('number는 5보다 크다')\n",
    "} else {\n",
    "    print(\"number는 5와 같다.\")\n",
    "}"
   ]
  },
  {
   "cell_type": "code",
   "execution_count": 121,
   "id": "3fb39764",
   "metadata": {},
   "outputs": [
    {
     "name": "stdout",
     "output_type": "stream",
     "text": [
      "[1] \"number는 5보다 크다\"\n"
     ]
    }
   ],
   "source": [
    "number <- 7\n",
    "if(number<5){\n",
    "    print(\"number는 5보다 작다\")\n",
    "} else if (number > 5){\n",
    "    print('number는 5보다 크다')\n",
    "} else {\n",
    "    print(\"number는 5와 같다.\")\n",
    "}"
   ]
  },
  {
   "cell_type": "markdown",
   "id": "8e48e721",
   "metadata": {},
   "source": [
    "> ***참고*** *&nbsp;&nbsp;R에서의 &nbsp;+ 기호*  \n",
    "<br>  *+ 기호는 이전 문장과 이어진 하나의 연속된 명령문을 표시하는 의미. 좌측 상단의 스크립트창에 명령어를 입력하면 나타나지 않음*"
   ]
  },
  {
   "cell_type": "markdown",
   "id": "b7c21957",
   "metadata": {},
   "source": [
    "**3) 사용자 정의 함수**"
   ]
  },
  {
   "cell_type": "markdown",
   "id": "c6bde722",
   "metadata": {},
   "source": [
    "- 자주 사용되는 구문을 필요할 때마다 작성하지 않고 하나의 함수로 명명하여 저장하였다가 필요한 경우 함수를 호출해 대신할 수 있음"
   ]
  },
  {
   "cell_type": "code",
   "execution_count": 126,
   "id": "8f5a18e1",
   "metadata": {},
   "outputs": [],
   "source": [
    "comparedTo5 <- function(number){\n",
    "    if(number<5){\n",
    "        print(\"number는 5보다 작다.\")\n",
    "    } else if (number > 5){\n",
    "        print(\"number는 5보다 크다.\")\n",
    "    } else {\n",
    "        print(\"number은 5와 같다.\")\n",
    "    }\n",
    "}"
   ]
  },
  {
   "cell_type": "code",
   "execution_count": 125,
   "id": "e25bde56",
   "metadata": {},
   "outputs": [
    {
     "name": "stdout",
     "output_type": "stream",
     "text": [
      "[1] \"number는 5보다 크다.\"\n"
     ]
    }
   ],
   "source": [
    "comparedTo5(10)"
   ]
  },
  {
   "cell_type": "code",
   "execution_count": 124,
   "id": "04cbfb21",
   "metadata": {},
   "outputs": [
    {
     "name": "stdout",
     "output_type": "stream",
     "text": [
      "[1] \"number는 5보다 작다.\"\n"
     ]
    }
   ],
   "source": [
    "comparedTo5(3)"
   ]
  },
  {
   "cell_type": "code",
   "execution_count": 127,
   "id": "c16475e9",
   "metadata": {},
   "outputs": [
    {
     "name": "stdout",
     "output_type": "stream",
     "text": [
      "[1] \"number은 5와 같다.\"\n"
     ]
    }
   ],
   "source": [
    "comparedTo5(5)"
   ]
  },
  {
   "cell_type": "markdown",
   "id": "7be2bc21",
   "metadata": {},
   "source": [
    "**4) 주석**"
   ]
  },
  {
   "cell_type": "markdown",
   "id": "b07916ce",
   "metadata": {},
   "source": [
    "- 주석은 R에서 실행되지 않는 문장"
   ]
  },
  {
   "cell_type": "markdown",
   "id": "361aa990",
   "metadata": {},
   "source": [
    "- 바로 위 혹은 바로 아래에 위치한 R 코드를 설명하거나 함수를 설명할 목적으로 작성하는 글로 #을 사용해 표시"
   ]
  },
  {
   "cell_type": "code",
   "execution_count": 128,
   "id": "b6736152",
   "metadata": {},
   "outputs": [
    {
     "data": {
      "text/html": [
       "2"
      ],
      "text/latex": [
       "2"
      ],
      "text/markdown": [
       "2"
      ],
      "text/plain": [
       "[1] 2"
      ]
     },
     "metadata": {},
     "output_type": "display_data"
    }
   ],
   "source": [
    "# 1+1을 계산하는 방법\n",
    "1+1"
   ]
  },
  {
   "cell_type": "markdown",
   "id": "64207442",
   "metadata": {},
   "source": [
    "### (6) 통계분석에 자주 사용되는 R 함수"
   ]
  },
  {
   "cell_type": "markdown",
   "id": "835db195",
   "metadata": {},
   "source": [
    "**1) 숫자 연산**"
   ]
  },
  {
   "cell_type": "markdown",
   "id": "2388761c",
   "metadata": {},
   "source": [
    "함수|내용\n",
    ":------|:---\n",
    "sqrt|주어진 수의 제곱근\n",
    "abs|주어진 수의 절댓값\n",
    "exp|자연상수 e의 제곱수\n",
    "log|밑이 자연상수인 로그 값\n",
    "log10|밑이 10인 로그 값\n",
    "pi|원주율을 의미하는 3.141592를 나타냄\n",
    "round|주어진 수의 반올림 값\n",
    "ceiling|주어진 수의 올림 값\n",
    "floor|주어진 수의 내림 값"
   ]
  },
  {
   "cell_type": "markdown",
   "id": "00018049",
   "metadata": {},
   "source": [
    "**2) 문자 연산**"
   ]
  },
  {
   "cell_type": "markdown",
   "id": "86c32e69",
   "metadata": {},
   "source": [
    "함수|내용\n",
    ":------|:---\n",
    "tolower|주어진 문자열을 소문자로 변환\n",
    "toupper|주어진 문자열을 대문자로 변환\n",
    "nchar|주어진 문자열의 길이\n",
    "substr|문자열의 일부분 추출\n",
    "strsplit|문자열을 구분자로 나누어 쪼갬\n",
    "grepl|문자열에 주어진 문자가 있는지 확인\n",
    "gsub|문자열의 일부분을 다른 문자로 대체"
   ]
  },
  {
   "cell_type": "code",
   "execution_count": 130,
   "id": "8515aca6",
   "metadata": {},
   "outputs": [],
   "source": [
    "data <- \"This is a pen\""
   ]
  },
  {
   "cell_type": "code",
   "execution_count": 131,
   "id": "33ef7306",
   "metadata": {},
   "outputs": [
    {
     "data": {
      "text/html": [
       "'this is a pen'"
      ],
      "text/latex": [
       "'this is a pen'"
      ],
      "text/markdown": [
       "'this is a pen'"
      ],
      "text/plain": [
       "[1] \"this is a pen\""
      ]
     },
     "metadata": {},
     "output_type": "display_data"
    }
   ],
   "source": [
    "tolower(data)"
   ]
  },
  {
   "cell_type": "code",
   "execution_count": 132,
   "id": "fcfc9c45",
   "metadata": {},
   "outputs": [
    {
     "data": {
      "text/html": [
       "'THIS IS A PEN'"
      ],
      "text/latex": [
       "'THIS IS A PEN'"
      ],
      "text/markdown": [
       "'THIS IS A PEN'"
      ],
      "text/plain": [
       "[1] \"THIS IS A PEN\""
      ]
     },
     "metadata": {},
     "output_type": "display_data"
    }
   ],
   "source": [
    "toupper(data)"
   ]
  },
  {
   "cell_type": "code",
   "execution_count": 133,
   "id": "51c25e17",
   "metadata": {},
   "outputs": [
    {
     "data": {
      "text/html": [
       "13"
      ],
      "text/latex": [
       "13"
      ],
      "text/markdown": [
       "13"
      ],
      "text/plain": [
       "[1] 13"
      ]
     },
     "metadata": {},
     "output_type": "display_data"
    }
   ],
   "source": [
    "nchar(data)"
   ]
  },
  {
   "cell_type": "code",
   "execution_count": 134,
   "id": "1a6b2d91",
   "metadata": {},
   "outputs": [
    {
     "data": {
      "text/html": [
       "'a pen'"
      ],
      "text/latex": [
       "'a pen'"
      ],
      "text/markdown": [
       "'a pen'"
      ],
      "text/plain": [
       "[1] \"a pen\""
      ]
     },
     "metadata": {},
     "output_type": "display_data"
    }
   ],
   "source": [
    "substr(data,9,13)"
   ]
  },
  {
   "cell_type": "code",
   "execution_count": 135,
   "id": "017901c6",
   "metadata": {},
   "outputs": [
    {
     "data": {
      "text/html": [
       "<ol>\n",
       "\t<li><ol class=list-inline>\n",
       "\t<li>'Th'</li>\n",
       "\t<li>' '</li>\n",
       "\t<li>' a pen'</li>\n",
       "</ol>\n",
       "</li>\n",
       "</ol>\n"
      ],
      "text/latex": [
       "\\begin{enumerate}\n",
       "\\item \\begin{enumerate*}\n",
       "\\item 'Th'\n",
       "\\item ' '\n",
       "\\item ' a pen'\n",
       "\\end{enumerate*}\n",
       "\n",
       "\\end{enumerate}\n"
      ],
      "text/markdown": [
       "1. 1. 'Th'\n",
       "2. ' '\n",
       "3. ' a pen'\n",
       "\n",
       "\n",
       "\n",
       "\n",
       "\n"
      ],
      "text/plain": [
       "[[1]]\n",
       "[1] \"Th\"     \" \"      \" a pen\"\n"
      ]
     },
     "metadata": {},
     "output_type": "display_data"
    }
   ],
   "source": [
    "strsplit(data,\"is\")"
   ]
  },
  {
   "cell_type": "code",
   "execution_count": 136,
   "id": "1ce0abc9",
   "metadata": {},
   "outputs": [
    {
     "data": {
      "text/html": [
       "TRUE"
      ],
      "text/latex": [
       "TRUE"
      ],
      "text/markdown": [
       "TRUE"
      ],
      "text/plain": [
       "[1] TRUE"
      ]
     },
     "metadata": {},
     "output_type": "display_data"
    }
   ],
   "source": [
    "grepl(\"pen\",data)"
   ]
  },
  {
   "cell_type": "code",
   "execution_count": 137,
   "id": "6911586f",
   "metadata": {},
   "outputs": [
    {
     "data": {
      "text/html": [
       "'This is a banana'"
      ],
      "text/latex": [
       "'This is a banana'"
      ],
      "text/markdown": [
       "'This is a banana'"
      ],
      "text/plain": [
       "[1] \"This is a banana\""
      ]
     },
     "metadata": {},
     "output_type": "display_data"
    }
   ],
   "source": [
    "gsub(\"pen\",\"banana\",data)"
   ]
  },
  {
   "cell_type": "markdown",
   "id": "2889099a",
   "metadata": {},
   "source": [
    "**3) 벡터 연산**"
   ]
  },
  {
   "cell_type": "markdown",
   "id": "b86e3f63",
   "metadata": {},
   "source": [
    "함수|내용\n",
    ":------|:---\n",
    "length|벡터의 길이를 구함\n",
    "paste|벡터를 구분자를 기준으로 결합\n",
    "cov|두 수치 벡터의 공분산를 구함\n",
    "cor|두 수치 벡터의 상관계수를 구함\n",
    "table|데이터의 개수를 구함\n",
    "order|벡터의 순서를 구함"
   ]
  },
  {
   "cell_type": "markdown",
   "id": "07f7052b",
   "metadata": {},
   "source": [
    "**4) 행렬 연산**"
   ]
  },
  {
   "cell_type": "markdown",
   "id": "8097a75e",
   "metadata": {},
   "source": [
    "함수|내용\n",
    ":------|:---\n",
    "t|전치행렬을 구함\n",
    "diag|대각행렬을 구함\n",
    "%*%|두 행렬 곱"
   ]
  },
  {
   "cell_type": "markdown",
   "id": "9ffc910f",
   "metadata": {},
   "source": [
    "**5) 데이터 탐색**"
   ]
  },
  {
   "cell_type": "markdown",
   "id": "91aa41ec",
   "metadata": {},
   "source": [
    "함수|내용\n",
    ":------|:---\n",
    "head|데이터의 앞 일부분을 보여줌\n",
    "tail|데이터의 뒤 일부분을 보여줌\n",
    "quantile|수치 벡터의 4분위수를 보여줌"
   ]
  },
  {
   "cell_type": "code",
   "execution_count": 138,
   "id": "4cd067d3",
   "metadata": {},
   "outputs": [
    {
     "data": {
      "text/html": [
       "<ol class=list-inline>\n",
       "\t<li>1</li>\n",
       "\t<li>2</li>\n",
       "\t<li>3</li>\n",
       "\t<li>4</li>\n",
       "\t<li>5</li>\n",
       "</ol>\n"
      ],
      "text/latex": [
       "\\begin{enumerate*}\n",
       "\\item 1\n",
       "\\item 2\n",
       "\\item 3\n",
       "\\item 4\n",
       "\\item 5\n",
       "\\end{enumerate*}\n"
      ],
      "text/markdown": [
       "1. 1\n",
       "2. 2\n",
       "3. 3\n",
       "4. 4\n",
       "5. 5\n",
       "\n",
       "\n"
      ],
      "text/plain": [
       "[1] 1 2 3 4 5"
      ]
     },
     "metadata": {},
     "output_type": "display_data"
    }
   ],
   "source": [
    "x <- c(1:12)\n",
    "head(x,5) # 기본값은 6"
   ]
  },
  {
   "cell_type": "code",
   "execution_count": 139,
   "id": "517124fa",
   "metadata": {},
   "outputs": [
    {
     "data": {
      "text/html": [
       "<ol class=list-inline>\n",
       "\t<li>8</li>\n",
       "\t<li>9</li>\n",
       "\t<li>10</li>\n",
       "\t<li>11</li>\n",
       "\t<li>12</li>\n",
       "</ol>\n"
      ],
      "text/latex": [
       "\\begin{enumerate*}\n",
       "\\item 8\n",
       "\\item 9\n",
       "\\item 10\n",
       "\\item 11\n",
       "\\item 12\n",
       "\\end{enumerate*}\n"
      ],
      "text/markdown": [
       "1. 8\n",
       "2. 9\n",
       "3. 10\n",
       "4. 11\n",
       "5. 12\n",
       "\n",
       "\n"
      ],
      "text/plain": [
       "[1]  8  9 10 11 12"
      ]
     },
     "metadata": {},
     "output_type": "display_data"
    }
   ],
   "source": [
    "tail(x,5)"
   ]
  },
  {
   "cell_type": "code",
   "execution_count": 140,
   "id": "a97fa7f5",
   "metadata": {},
   "outputs": [
    {
     "data": {
      "text/html": [
       "<dl class=dl-horizontal>\n",
       "\t<dt>0%</dt>\n",
       "\t\t<dd>1</dd>\n",
       "\t<dt>25%</dt>\n",
       "\t\t<dd>3.75</dd>\n",
       "\t<dt>50%</dt>\n",
       "\t\t<dd>6.5</dd>\n",
       "\t<dt>75%</dt>\n",
       "\t\t<dd>9.25</dd>\n",
       "\t<dt>100%</dt>\n",
       "\t\t<dd>12</dd>\n",
       "</dl>\n"
      ],
      "text/latex": [
       "\\begin{description*}\n",
       "\\item[0\\textbackslash{}\\%] 1\n",
       "\\item[25\\textbackslash{}\\%] 3.75\n",
       "\\item[50\\textbackslash{}\\%] 6.5\n",
       "\\item[75\\textbackslash{}\\%] 9.25\n",
       "\\item[100\\textbackslash{}\\%] 12\n",
       "\\end{description*}\n"
      ],
      "text/markdown": [
       "0%\n",
       ":   125%\n",
       ":   3.7550%\n",
       ":   6.575%\n",
       ":   9.25100%\n",
       ":   12\n",
       "\n"
      ],
      "text/plain": [
       "   0%   25%   50%   75%  100% \n",
       " 1.00  3.75  6.50  9.25 12.00 "
      ]
     },
     "metadata": {},
     "output_type": "display_data"
    }
   ],
   "source": [
    "quantile(x)"
   ]
  },
  {
   "cell_type": "markdown",
   "id": "c75a5304",
   "metadata": {},
   "source": [
    "**6) 데이터 전처리**"
   ]
  },
  {
   "cell_type": "markdown",
   "id": "27386c03",
   "metadata": {},
   "source": [
    "함수|내용\n",
    ":------|:---\n",
    "subset|데이터에서 조건식에 맞는 데이터를 추출\n",
    "merge|두 데이터를 공통된 열을 기준으로 병합\n",
    "apply|데이터에 열(또는 행)별로 주어진 함수 적용"
   ]
  },
  {
   "cell_type": "code",
   "execution_count": 142,
   "id": "7dbcbd28",
   "metadata": {},
   "outputs": [],
   "source": [
    "df1 <- data.frame(x=c(1,1,1,2,2),y=c(2,3,4,3,3))\n",
    "df2 <- data.frame(x=c(1,2,3,4),z=c(5,6,7,8))"
   ]
  },
  {
   "cell_type": "code",
   "execution_count": 143,
   "id": "2161e35f",
   "metadata": {},
   "outputs": [
    {
     "data": {
      "text/html": [
       "<table>\n",
       "<thead><tr><th scope=col>x</th><th scope=col>y</th></tr></thead>\n",
       "<tbody>\n",
       "\t<tr><td>1</td><td>2</td></tr>\n",
       "\t<tr><td>1</td><td>3</td></tr>\n",
       "\t<tr><td>1</td><td>4</td></tr>\n",
       "</tbody>\n",
       "</table>\n"
      ],
      "text/latex": [
       "\\begin{tabular}{r|ll}\n",
       " x & y\\\\\n",
       "\\hline\n",
       "\t 1 & 2\\\\\n",
       "\t 1 & 3\\\\\n",
       "\t 1 & 4\\\\\n",
       "\\end{tabular}\n"
      ],
      "text/markdown": [
       "\n",
       "| x | y |\n",
       "|---|---|\n",
       "| 1 | 2 |\n",
       "| 1 | 3 |\n",
       "| 1 | 4 |\n",
       "\n"
      ],
      "text/plain": [
       "  x y\n",
       "1 1 2\n",
       "2 1 3\n",
       "3 1 4"
      ]
     },
     "metadata": {},
     "output_type": "display_data"
    }
   ],
   "source": [
    "subset(df1,x==1)"
   ]
  },
  {
   "cell_type": "code",
   "execution_count": 144,
   "id": "3710b58e",
   "metadata": {},
   "outputs": [
    {
     "data": {
      "text/html": [
       "<table>\n",
       "<thead><tr><th scope=col>x</th><th scope=col>y</th><th scope=col>z</th></tr></thead>\n",
       "<tbody>\n",
       "\t<tr><td>1</td><td>2</td><td>5</td></tr>\n",
       "\t<tr><td>1</td><td>3</td><td>5</td></tr>\n",
       "\t<tr><td>1</td><td>4</td><td>5</td></tr>\n",
       "\t<tr><td>2</td><td>3</td><td>6</td></tr>\n",
       "\t<tr><td>2</td><td>3</td><td>6</td></tr>\n",
       "</tbody>\n",
       "</table>\n"
      ],
      "text/latex": [
       "\\begin{tabular}{r|lll}\n",
       " x & y & z\\\\\n",
       "\\hline\n",
       "\t 1 & 2 & 5\\\\\n",
       "\t 1 & 3 & 5\\\\\n",
       "\t 1 & 4 & 5\\\\\n",
       "\t 2 & 3 & 6\\\\\n",
       "\t 2 & 3 & 6\\\\\n",
       "\\end{tabular}\n"
      ],
      "text/markdown": [
       "\n",
       "| x | y | z |\n",
       "|---|---|---|\n",
       "| 1 | 2 | 5 |\n",
       "| 1 | 3 | 5 |\n",
       "| 1 | 4 | 5 |\n",
       "| 2 | 3 | 6 |\n",
       "| 2 | 3 | 6 |\n",
       "\n"
      ],
      "text/plain": [
       "  x y z\n",
       "1 1 2 5\n",
       "2 1 3 5\n",
       "3 1 4 5\n",
       "4 2 3 6\n",
       "5 2 3 6"
      ]
     },
     "metadata": {},
     "output_type": "display_data"
    }
   ],
   "source": [
    "merge(df1,df2,by=c(\"x\"))"
   ]
  },
  {
   "cell_type": "code",
   "execution_count": 145,
   "id": "ce87bf67",
   "metadata": {},
   "outputs": [
    {
     "data": {
      "text/html": [
       "<ol class=list-inline>\n",
       "\t<li>3</li>\n",
       "\t<li>4</li>\n",
       "\t<li>5</li>\n",
       "\t<li>5</li>\n",
       "\t<li>5</li>\n",
       "</ol>\n"
      ],
      "text/latex": [
       "\\begin{enumerate*}\n",
       "\\item 3\n",
       "\\item 4\n",
       "\\item 5\n",
       "\\item 5\n",
       "\\item 5\n",
       "\\end{enumerate*}\n"
      ],
      "text/markdown": [
       "1. 3\n",
       "2. 4\n",
       "3. 5\n",
       "4. 5\n",
       "5. 5\n",
       "\n",
       "\n"
      ],
      "text/plain": [
       "[1] 3 4 5 5 5"
      ]
     },
     "metadata": {},
     "output_type": "display_data"
    }
   ],
   "source": [
    "apply(df1, 1, sum) # 1은 각 행에 적용"
   ]
  },
  {
   "cell_type": "code",
   "execution_count": 147,
   "id": "d1aec7d1",
   "metadata": {},
   "outputs": [
    {
     "data": {
      "text/html": [
       "<dl class=dl-horizontal>\n",
       "\t<dt>x</dt>\n",
       "\t\t<dd>7</dd>\n",
       "\t<dt>y</dt>\n",
       "\t\t<dd>15</dd>\n",
       "</dl>\n"
      ],
      "text/latex": [
       "\\begin{description*}\n",
       "\\item[x] 7\n",
       "\\item[y] 15\n",
       "\\end{description*}\n"
      ],
      "text/markdown": [
       "x\n",
       ":   7y\n",
       ":   15\n",
       "\n"
      ],
      "text/plain": [
       " x  y \n",
       " 7 15 "
      ]
     },
     "metadata": {},
     "output_type": "display_data"
    }
   ],
   "source": [
    "apply(df1, 2, sum) # 2은 각 열에 적용"
   ]
  },
  {
   "cell_type": "markdown",
   "id": "1a5d2f09",
   "metadata": {},
   "source": [
    "**7) 정규분포(기본값은 표준 정규분포로 mean=0, sd=1)**"
   ]
  },
  {
   "cell_type": "markdown",
   "id": "56c85d19",
   "metadata": {},
   "source": [
    "함수|내용\n",
    ":------|:---\n",
    "dnorm|정규 분포의 주어진 값에서 함수 값 구함\n",
    "rnorm|정규 분포에서 주어진 개수만큼 표본 추출\n",
    "pnorm|정규 분포에서 주어진 값보다 작을 확률\n",
    "qnorm|정규 분포에서 주어진 넓이 값을 갖는 x값"
   ]
  },
  {
   "cell_type": "markdown",
   "id": "7648c6e3",
   "metadata": {},
   "source": [
    "**8) 표본 추출**"
   ]
  },
  {
   "cell_type": "markdown",
   "id": "515e98be",
   "metadata": {},
   "source": [
    "함수|내용\n",
    ":------|:---\n",
    "runif|균일 분포에서 주어진 개수만큼 표본 추출\n",
    "sample|주어진 데이터에서 주어진 개수만큼 표본 추출"
   ]
  },
  {
   "cell_type": "markdown",
   "id": "6f139147",
   "metadata": {},
   "source": [
    "**9) 날짜**"
   ]
  },
  {
   "cell_type": "markdown",
   "id": "642a1924",
   "metadata": {},
   "source": [
    "함수|내용\n",
    ":------|:---\n",
    "Sys.Date|연, 월, 일을 출력\n",
    "Sys.time|연, 월, 일, 시간을 출력\n",
    "as.Date|주어진 데이터를 날짜 형식으로 변환\n",
    "format|원하는 날짜 형식으로 변경\n",
    "as.POSIXct|타임스탬프를 날짜 및 시간으로 변환"
   ]
  },
  {
   "cell_type": "code",
   "execution_count": 148,
   "id": "6674b8fa",
   "metadata": {},
   "outputs": [
    {
     "data": {
      "text/html": [
       "<time datetime=\"2022-01-05\">2022-01-05</time>"
      ],
      "text/latex": [
       "2022-01-05"
      ],
      "text/markdown": [
       "2022-01-05"
      ],
      "text/plain": [
       "[1] \"2022-01-05\""
      ]
     },
     "metadata": {},
     "output_type": "display_data"
    }
   ],
   "source": [
    "Sys.Date()"
   ]
  },
  {
   "cell_type": "code",
   "execution_count": 150,
   "id": "251c8370",
   "metadata": {},
   "outputs": [
    {
     "data": {
      "text/plain": [
       "[1] \"2022-01-05 17:09:56 KST\""
      ]
     },
     "metadata": {},
     "output_type": "display_data"
    }
   ],
   "source": [
    "Sys.time()"
   ]
  },
  {
   "cell_type": "code",
   "execution_count": 151,
   "id": "0b9f3abe",
   "metadata": {},
   "outputs": [
    {
     "data": {
      "text/html": [
       "<time datetime=\"2020-01-01\">2020-01-01</time>"
      ],
      "text/latex": [
       "2020-01-01"
      ],
      "text/markdown": [
       "2020-01-01"
      ],
      "text/plain": [
       "[1] \"2020-01-01\""
      ]
     },
     "metadata": {},
     "output_type": "display_data"
    }
   ],
   "source": [
    "as.Date(\"2020-01-01\")"
   ]
  },
  {
   "cell_type": "code",
   "execution_count": 154,
   "id": "18cc4815",
   "metadata": {},
   "outputs": [
    {
     "data": {
      "text/html": [
       "'2022/01/05'"
      ],
      "text/latex": [
       "'2022/01/05'"
      ],
      "text/markdown": [
       "'2022/01/05'"
      ],
      "text/plain": [
       "[1] \"2022/01/05\""
      ]
     },
     "metadata": {},
     "output_type": "display_data"
    }
   ],
   "source": [
    "format(Sys.Date(),\"%Y/%m/%d\")"
   ]
  },
  {
   "cell_type": "code",
   "execution_count": 155,
   "id": "6b3481e8",
   "metadata": {},
   "outputs": [
    {
     "data": {
      "text/html": [
       "'수요일'"
      ],
      "text/latex": [
       "'수요일'"
      ],
      "text/markdown": [
       "'수요일'"
      ],
      "text/plain": [
       "[1] \"수요일\""
      ]
     },
     "metadata": {},
     "output_type": "display_data"
    }
   ],
   "source": [
    "format(Sys.Date(),\"%A\")"
   ]
  },
  {
   "cell_type": "code",
   "execution_count": 157,
   "id": "3d9e9f0c",
   "metadata": {},
   "outputs": [
    {
     "data": {
      "text/html": [
       "1641370263.92216"
      ],
      "text/latex": [
       "1641370263.92216"
      ],
      "text/markdown": [
       "1641370263.92216"
      ],
      "text/plain": [
       "[1] 1641370264"
      ]
     },
     "metadata": {},
     "output_type": "display_data"
    }
   ],
   "source": [
    "unclass(Sys.time()) # unclass를 이용하면 타임스탬프를 얻을 수 있다."
   ]
  },
  {
   "cell_type": "code",
   "execution_count": 158,
   "id": "c2bf1380",
   "metadata": {},
   "outputs": [
    {
     "data": {
      "text/plain": [
       "[1] \"2022-01-05 17:11:03 KST\""
      ]
     },
     "metadata": {},
     "output_type": "display_data"
    }
   ],
   "source": [
    "as.POSIXct(1641370263.92216,origin=\"1970-01-01\")"
   ]
  },
  {
   "cell_type": "markdown",
   "id": "45a84b03",
   "metadata": {},
   "source": [
    "> ***참고*** *&nbsp;&nbsp;타임스탬프*  \n",
    "<br>  *1970년 1월 1일 UTC로부터 몇 초가 흘렀는지 나타내는 값*"
   ]
  },
  {
   "cell_type": "markdown",
   "id": "59a9c124",
   "metadata": {},
   "source": [
    "**10) 산점도**"
   ]
  },
  {
   "cell_type": "markdown",
   "id": "9c7b805f",
   "metadata": {},
   "source": [
    "함수|내용\n",
    ":------|:---\n",
    "plot|주어진 데이터의 산점도\n",
    "abline|산점도에 직선 추가"
   ]
  },
  {
   "cell_type": "code",
   "execution_count": 161,
   "id": "71040721",
   "metadata": {},
   "outputs": [
    {
     "data": {
      "image/png": "[encoded data removed]",
      "text/plain": [
       "Plot with title \"Test plot\""
      ]
     },
     "metadata": {},
     "output_type": "display_data"
    }
   ],
   "source": [
    "x <- c(1:10)\n",
    "y <- rnorm(10)\n",
    "\n",
    "# type : p는 점, l은 직선, b는 점과 직선, n은 아무것도 표시하지 않음\n",
    "# xlim : x축 범위, ylim : y축 범위\n",
    "# xlab, ylab : 각 축의 이름을 지정\n",
    "# main : 산점도의 이름 지정\n",
    "plot(x,y,type=\"l\", xlim=c(-2,12), ylim = c(-3,3),xlab = \"X axis\", ylab = \"Y axis\", main=\"Test plot\")\n",
    "\n",
    "# v : 수직선, h : 수평선\n",
    "# col : 색상 선택\n",
    "abline(v=c(1,10),col=\"blue\")"
   ]
  },
  {
   "cell_type": "markdown",
   "id": "2e4e842c",
   "metadata": {},
   "source": [
    "**11) 파일 읽기 쓰기**"
   ]
  },
  {
   "cell_type": "markdown",
   "id": "d9d6b30b",
   "metadata": {},
   "source": [
    "함수|내용\n",
    ":------|:---\n",
    "read.csv|CSV 파일을 불러옴\n",
    "write.csv|데이터를 CSV 파일로 저장\n",
    "saveRDS|분석 모델 및 R 파일 저장\n",
    "readRDS|분석 모델 및 R 파일 불러옴"
   ]
  },
  {
   "cell_type": "markdown",
   "id": "9fbb265c",
   "metadata": {},
   "source": [
    "**12) 기타**"
   ]
  },
  {
   "cell_type": "markdown",
   "id": "1aafbcc4",
   "metadata": {},
   "source": [
    "함수|내용\n",
    ":------|:---\n",
    "install.packages|패키지 설치\n",
    "library|설치된 패키지 호출\n",
    "getwd|작업 디렉터리 확인\n",
    "setwd|작업 디렉터리 설정"
   ]
  },
  {
   "cell_type": "markdown",
   "id": "d3b352e1",
   "metadata": {},
   "source": [
    "# 02. 데이터 마트"
   ]
  },
  {
   "cell_type": "markdown",
   "id": "7dd75ae1",
   "metadata": {},
   "source": [
    "## 1. 데이터 마트의 이해"
   ]
  },
  {
   "cell_type": "markdown",
   "id": "2946a2b1",
   "metadata": {},
   "source": [
    "### (1) 데이터 마트"
   ]
  },
  {
   "cell_type": "markdown",
   "id": "764365fd",
   "metadata": {},
   "source": [
    "- 효율적인 데이터 분석을 위해서는 데이터를 체계적으로 준비할 필요가 있음. 따라서 분석하기에 앞서 분석 목젝에 맞춰 데이터를 수집, 변형하는 과정 필요"
   ]
  },
  {
   "cell_type": "markdown",
   "id": "ff667e49",
   "metadata": {},
   "source": [
    "- 데이터 마트란 데이터 웨어하우스로부터 특정 사용자가 관심을 갖는 데이터들을 주제별, 부서별로 추출하여 모은 비교적 작은 규모의 데이터 웨어하우스"
   ]
  },
  {
   "cell_type": "markdown",
   "id": "00d9b9dd",
   "metadata": {},
   "source": [
    "- 데이터 마트 개발: 분석 목적별, 주제별, 부서별로 데이터를 수집하고 변형해 한 곳에 모으는 작업"
   ]
  },
  {
   "cell_type": "markdown",
   "id": "0526fccc",
   "metadata": {},
   "source": [
    "- 효율적인 데이터 마트 개발을 위해 R에서 제공하는 reshape, sqldf, plyr 등의 다양한 패키지 활용 가능"
   ]
  },
  {
   "cell_type": "markdown",
   "id": "462226b3",
   "metadata": {},
   "source": [
    "**[데이터 웨어하우스와 데이터 마트]**"
   ]
  },
  {
   "attachments": {
    "%EC%82%AC%EB%B3%B8%20-S36BW-822010613260_1.jpg": {
     "image/jpeg": "[encoded data removed]"
    }
   },
   "cell_type": "markdown",
   "id": "7141f824",
   "metadata": {},
   "source": [
    "![%EC%82%AC%EB%B3%B8%20-S36BW-822010613260_1.jpg](attachment:%EC%82%AC%EB%B3%B8%20-S36BW-822010613260_1.jpg)"
   ]
  },
  {
   "cell_type": "markdown",
   "id": "48858a3b",
   "metadata": {},
   "source": [
    "### (2) 데이터 전처리"
   ]
  },
  {
   "cell_type": "markdown",
   "id": "e9b843c3",
   "metadata": {},
   "source": [
    "- 데이터 마트에 사용자가 원하는 데이터를 수집하고 변형하여 적재했다면, 그 후 전처리 단계를 거쳐야 함"
   ]
  },
  {
   "cell_type": "markdown",
   "id": "8386556a",
   "metadata": {},
   "source": [
    "- 빅데이터 분석 단계에 들어가기 전, 꼭 필요한 과정"
   ]
  },
  {
   "cell_type": "markdown",
   "id": "d15bfc57",
   "metadata": {},
   "source": [
    "- 전처리에는 데이터를 정제하는 과정, 분석 변수를 처리하는 과정이 포함"
   ]
  },
  {
   "cell_type": "markdown",
   "id": "3ee24eee",
   "metadata": {},
   "source": [
    "- 인터넷 상에서 정제와 변수 처리를 혼용하는 경우가 있음, 전처리는 이 둘을 포함한 광의의 개념"
   ]
  },
  {
   "cell_type": "markdown",
   "id": "d3a159e8",
   "metadata": {},
   "source": [
    "- 데이터 정제 과정 : 결측값과 이상값을 처리"
   ]
  },
  {
   "cell_type": "markdown",
   "id": "04794986",
   "metadata": {},
   "source": [
    "- 분석 변수 처리 과정 : 변수 선택, 차원 축소, 파생변수 생성, 변수 변환, 클래스 불균형(불균형 데이터 처리) 등"
   ]
  },
  {
   "cell_type": "markdown",
   "id": "4ace3035",
   "metadata": {},
   "source": [
    "> ***참고*** *&nbsp;&nbsp;요약 변수와 파생 변수*  \n",
    "<br>  *전처리 : 정제 작업 외에도 변수 처리 작업이 포함. 이 때 요약변수와 파생변수를 생성하는 작업은 매우 중요*  \n",
    "<br>  *요약변수*  \n",
    "       *- 원래의 데이터로부터 기본적인 통계 자료를 추출한 변수를 의미.* <br>\n",
    "       *- 총 합계, 평균, 횟수, 성별 구분 등 기본적인 변수들로 재활용성이 높음.*   \n",
    "       *- 기초적인 통계자료들이 속함*  \n",
    "<br>  *파생변수*  \n",
    "      *- 기본적인 통계자료가 아닌, 특정한 목적을 갖고 조건을 만족하는 변수를 새롭게 생성한 것*  \n",
    "      *- 단순 합계가 아닌 특정 매장의 월별 합계 등 목적 및 조건을 만족하는 변수.*  \n",
    "      *- 목적에 따른 특정한 의미가 부여*  \n",
    "      *- 주관적일 수 있으므로 논리적 타당성을 갖추어야함*"
   ]
  },
  {
   "cell_type": "markdown",
   "id": "907a63d5",
   "metadata": {},
   "source": [
    "## 2. 데이터 마트 개발을 위한 R 패키지 활용"
   ]
  },
  {
   "cell_type": "markdown",
   "id": "476b36e9",
   "metadata": {},
   "source": [
    "### (1) reshape 패키지"
   ]
  },
  {
   "cell_type": "markdown",
   "id": "fa039253",
   "metadata": {},
   "source": [
    "- 20개에 가까운 함수를 보유. 데이터 마트를 개발하는 데 강력한 melt와 cast라는 함수를 보유"
   ]
  },
  {
   "cell_type": "markdown",
   "id": "4ee259a3",
   "metadata": {},
   "source": [
    "- 이 패키지에 포함된 함수와 활용법은 R 공식 문서에서 확인 가능 : https://cran.r-project.org/web/packages/reshape/reshape.pdf"
   ]
  },
  {
   "cell_type": "markdown",
   "id": "fde1fdf6",
   "metadata": {},
   "source": [
    "- melt 함수 : 데이터를 특정 변수를 기준으로 녹여 나머지 변수에 대한 세분화된 데이터를 만듦"
   ]
  },
  {
   "cell_type": "code",
   "execution_count": 3,
   "id": "3b9b5aa0",
   "metadata": {},
   "outputs": [
    {
     "data": {
      "text/html": [
       "<table>\n",
       "<thead><tr><th scope=col>student_number</th><th scope=col>semester</th><th scope=col>math_score</th><th scope=col>english_score</th></tr></thead>\n",
       "<tbody>\n",
       "\t<tr><td>1 </td><td>1 </td><td>60</td><td>80</td></tr>\n",
       "\t<tr><td>2 </td><td>1 </td><td>90</td><td>70</td></tr>\n",
       "\t<tr><td>1 </td><td>2 </td><td>70</td><td>40</td></tr>\n",
       "\t<tr><td>2 </td><td>2 </td><td>90</td><td>60</td></tr>\n",
       "</tbody>\n",
       "</table>\n"
      ],
      "text/latex": [
       "\\begin{tabular}{r|llll}\n",
       " student\\_number & semester & math\\_score & english\\_score\\\\\n",
       "\\hline\n",
       "\t 1  & 1  & 60 & 80\\\\\n",
       "\t 2  & 1  & 90 & 70\\\\\n",
       "\t 1  & 2  & 70 & 40\\\\\n",
       "\t 2  & 2  & 90 & 60\\\\\n",
       "\\end{tabular}\n"
      ],
      "text/markdown": [
       "\n",
       "| student_number | semester | math_score | english_score |\n",
       "|---|---|---|---|\n",
       "| 1  | 1  | 60 | 80 |\n",
       "| 2  | 1  | 90 | 70 |\n",
       "| 1  | 2  | 70 | 40 |\n",
       "| 2  | 2  | 90 | 60 |\n",
       "\n"
      ],
      "text/plain": [
       "  student_number semester math_score english_score\n",
       "1 1              1        60         80           \n",
       "2 2              1        90         70           \n",
       "3 1              2        70         40           \n",
       "4 2              2        90         60           "
      ]
     },
     "metadata": {},
     "output_type": "display_data"
    }
   ],
   "source": [
    "student_number = c(1,2,1,2)\n",
    "semester = c(1,1,2,2)\n",
    "math_score = c(60,90,70,90)\n",
    "english_score = c(80,70,40,60)\n",
    "score = data.frame(student_number, semester,math_score,english_score)\n",
    "score"
   ]
  },
  {
   "cell_type": "markdown",
   "id": "610affea",
   "metadata": {},
   "source": [
    "*`참고) 교재의 데이터에 오류가 있어 강의 노트와 melt함수와 cast함수 적용 결과가 다름`*"
   ]
  },
  {
   "cell_type": "code",
   "execution_count": 194,
   "id": "f946bbb5",
   "metadata": {},
   "outputs": [
    {
     "data": {
      "text/html": [
       "<table>\n",
       "<thead><tr><th scope=col>student_number</th><th scope=col>semester</th><th scope=col>variable</th><th scope=col>value</th></tr></thead>\n",
       "<tbody>\n",
       "\t<tr><td>1            </td><td>1            </td><td>math_score   </td><td>60           </td></tr>\n",
       "\t<tr><td>2            </td><td>1            </td><td>math_score   </td><td>90           </td></tr>\n",
       "\t<tr><td>1            </td><td>2            </td><td>math_score   </td><td>70           </td></tr>\n",
       "\t<tr><td>2            </td><td>2            </td><td>math_score   </td><td>90           </td></tr>\n",
       "\t<tr><td>1            </td><td>1            </td><td>english_score</td><td>80           </td></tr>\n",
       "\t<tr><td>2            </td><td>1            </td><td>english_score</td><td>70           </td></tr>\n",
       "\t<tr><td>1            </td><td>2            </td><td>english_score</td><td>40           </td></tr>\n",
       "\t<tr><td>2            </td><td>2            </td><td>english_score</td><td>60           </td></tr>\n",
       "</tbody>\n",
       "</table>\n"
      ],
      "text/latex": [
       "\\begin{tabular}{r|llll}\n",
       " student\\_number & semester & variable & value\\\\\n",
       "\\hline\n",
       "\t 1               & 1               & math\\_score    & 60             \\\\\n",
       "\t 2               & 1               & math\\_score    & 90             \\\\\n",
       "\t 1               & 2               & math\\_score    & 70             \\\\\n",
       "\t 2               & 2               & math\\_score    & 90             \\\\\n",
       "\t 1               & 1               & english\\_score & 80             \\\\\n",
       "\t 2               & 1               & english\\_score & 70             \\\\\n",
       "\t 1               & 2               & english\\_score & 40             \\\\\n",
       "\t 2               & 2               & english\\_score & 60             \\\\\n",
       "\\end{tabular}\n"
      ],
      "text/markdown": [
       "\n",
       "| student_number | semester | variable | value |\n",
       "|---|---|---|---|\n",
       "| 1             | 1             | math_score    | 60            |\n",
       "| 2             | 1             | math_score    | 90            |\n",
       "| 1             | 2             | math_score    | 70            |\n",
       "| 2             | 2             | math_score    | 90            |\n",
       "| 1             | 1             | english_score | 80            |\n",
       "| 2             | 1             | english_score | 70            |\n",
       "| 1             | 2             | english_score | 40            |\n",
       "| 2             | 2             | english_score | 60            |\n",
       "\n"
      ],
      "text/plain": [
       "  student_number semester variable      value\n",
       "1 1              1        math_score    60   \n",
       "2 2              1        math_score    90   \n",
       "3 1              2        math_score    70   \n",
       "4 2              2        math_score    90   \n",
       "5 1              1        english_score 80   \n",
       "6 2              1        english_score 70   \n",
       "7 1              2        english_score 40   \n",
       "8 2              2        english_score 60   "
      ]
     },
     "metadata": {},
     "output_type": "display_data"
    }
   ],
   "source": [
    "# install.packages(\"reshape2\")\n",
    "library(reshape2)\n",
    "melt(score, id = c(\"student_number\",\"semester\"))"
   ]
  },
  {
   "cell_type": "markdown",
   "id": "74ce30b7",
   "metadata": {},
   "source": [
    "- cast 함수 : melt에 의해 녹은 데이터를 요약을 위해 새롭게 가공"
   ]
  },
  {
   "cell_type": "markdown",
   "id": "5ead94d9",
   "metadata": {},
   "source": [
    "*`참고) reshape2 패키지는 cast 함수를 지원하지 않고 dcast 함수와 acast 함수를 사용할 수 있음`*"
   ]
  },
  {
   "cell_type": "code",
   "execution_count": 192,
   "id": "14fbe71d",
   "metadata": {},
   "outputs": [],
   "source": [
    "melted_score <- melt(score, id = c(\"student_number\",\"semester\"))"
   ]
  },
  {
   "cell_type": "code",
   "execution_count": 198,
   "id": "f99565e8",
   "metadata": {},
   "outputs": [
    {
     "data": {
      "text/html": [
       "<table>\n",
       "<thead><tr><th scope=col>student_number</th><th scope=col>math_score</th><th scope=col>english_score</th></tr></thead>\n",
       "<tbody>\n",
       "\t<tr><td>1 </td><td>65</td><td>60</td></tr>\n",
       "\t<tr><td>2 </td><td>90</td><td>65</td></tr>\n",
       "</tbody>\n",
       "</table>\n"
      ],
      "text/latex": [
       "\\begin{tabular}{r|lll}\n",
       " student\\_number & math\\_score & english\\_score\\\\\n",
       "\\hline\n",
       "\t 1  & 65 & 60\\\\\n",
       "\t 2  & 90 & 65\\\\\n",
       "\\end{tabular}\n"
      ],
      "text/markdown": [
       "\n",
       "| student_number | math_score | english_score |\n",
       "|---|---|---|\n",
       "| 1  | 65 | 60 |\n",
       "| 2  | 90 | 65 |\n",
       "\n"
      ],
      "text/plain": [
       "  student_number math_score english_score\n",
       "1 1              65         60           \n",
       "2 2              90         65           "
      ]
     },
     "metadata": {},
     "output_type": "display_data"
    }
   ],
   "source": [
    "# 학생의 과목별 평균 점수를 알고 싶은 경우\n",
    "dcast(melted_score, student_number ~ variable, mean)"
   ]
  },
  {
   "cell_type": "code",
   "execution_count": 199,
   "id": "e7d615c3",
   "metadata": {},
   "outputs": [
    {
     "data": {
      "text/html": [
       "<table>\n",
       "<thead><tr><th scope=col>student_number</th><th scope=col>1</th><th scope=col>2</th></tr></thead>\n",
       "<tbody>\n",
       "\t<tr><td>1 </td><td>70</td><td>55</td></tr>\n",
       "\t<tr><td>2 </td><td>80</td><td>75</td></tr>\n",
       "</tbody>\n",
       "</table>\n"
      ],
      "text/latex": [
       "\\begin{tabular}{r|lll}\n",
       " student\\_number & 1 & 2\\\\\n",
       "\\hline\n",
       "\t 1  & 70 & 55\\\\\n",
       "\t 2  & 80 & 75\\\\\n",
       "\\end{tabular}\n"
      ],
      "text/markdown": [
       "\n",
       "| student_number | 1 | 2 |\n",
       "|---|---|---|\n",
       "| 1  | 70 | 55 |\n",
       "| 2  | 80 | 75 |\n",
       "\n"
      ],
      "text/plain": [
       "  student_number 1  2 \n",
       "1 1              70 55\n",
       "2 2              80 75"
      ]
     },
     "metadata": {},
     "output_type": "display_data"
    }
   ],
   "source": [
    "# 학생의 학기별 평균 점수를 알고 싶은 경우\n",
    "dcast(melted_score, student_number ~ semester, mean)"
   ]
  },
  {
   "cell_type": "code",
   "execution_count": 216,
   "id": "cfcc60b3",
   "metadata": {},
   "outputs": [
    {
     "name": "stderr",
     "output_type": "stream",
     "text": [
      "Warning message in .fun(.value[0], ...):\n",
      "\"max에 전달되는 인자들 중 누락이 있어 -Inf를 반환합니다\""
     ]
    },
    {
     "data": {
      "text/html": [
       "<table>\n",
       "<thead><tr><th scope=col>student_number</th><th scope=col>math_score</th><th scope=col>english_score</th></tr></thead>\n",
       "<tbody>\n",
       "\t<tr><td>1 </td><td>70</td><td>80</td></tr>\n",
       "\t<tr><td>2 </td><td>90</td><td>70</td></tr>\n",
       "</tbody>\n",
       "</table>\n"
      ],
      "text/latex": [
       "\\begin{tabular}{r|lll}\n",
       " student\\_number & math\\_score & english\\_score\\\\\n",
       "\\hline\n",
       "\t 1  & 70 & 80\\\\\n",
       "\t 2  & 90 & 70\\\\\n",
       "\\end{tabular}\n"
      ],
      "text/markdown": [
       "\n",
       "| student_number | math_score | english_score |\n",
       "|---|---|---|\n",
       "| 1  | 70 | 80 |\n",
       "| 2  | 90 | 70 |\n",
       "\n"
      ],
      "text/plain": [
       "  student_number math_score english_score\n",
       "1 1              70         80           \n",
       "2 2              90         70           "
      ]
     },
     "metadata": {},
     "output_type": "display_data"
    }
   ],
   "source": [
    "# 학생의 과목별 최댓값을 알고 싶은 경우\n",
    "dcast(melted_score, student_number ~ variable, max)"
   ]
  },
  {
   "cell_type": "markdown",
   "id": "d21778e6",
   "metadata": {},
   "source": [
    "### (2) sqldf 패키지"
   ]
  },
  {
   "cell_type": "markdown",
   "id": "42abafdb",
   "metadata": {},
   "source": [
    "- 표준 SQL 문장을 활용해 R에서 데이터프레임을 다루는 것을 가능하게 해주는 패키지. SAS에서 PROC SQL과 같은 역할"
   ]
  },
  {
   "cell_type": "code",
   "execution_count": 4,
   "id": "c4d5d613",
   "metadata": {},
   "outputs": [
    {
     "data": {
      "text/html": [
       "<table>\n",
       "<thead><tr><th scope=col>student_number</th><th scope=col>semester</th><th scope=col>math_score</th><th scope=col>english_score</th></tr></thead>\n",
       "<tbody>\n",
       "\t<tr><td>1 </td><td>1 </td><td>60</td><td>80</td></tr>\n",
       "\t<tr><td>2 </td><td>1 </td><td>90</td><td>70</td></tr>\n",
       "\t<tr><td>1 </td><td>2 </td><td>70</td><td>40</td></tr>\n",
       "\t<tr><td>2 </td><td>2 </td><td>90</td><td>60</td></tr>\n",
       "</tbody>\n",
       "</table>\n"
      ],
      "text/latex": [
       "\\begin{tabular}{r|llll}\n",
       " student\\_number & semester & math\\_score & english\\_score\\\\\n",
       "\\hline\n",
       "\t 1  & 1  & 60 & 80\\\\\n",
       "\t 2  & 1  & 90 & 70\\\\\n",
       "\t 1  & 2  & 70 & 40\\\\\n",
       "\t 2  & 2  & 90 & 60\\\\\n",
       "\\end{tabular}\n"
      ],
      "text/markdown": [
       "\n",
       "| student_number | semester | math_score | english_score |\n",
       "|---|---|---|---|\n",
       "| 1  | 1  | 60 | 80 |\n",
       "| 2  | 1  | 90 | 70 |\n",
       "| 1  | 2  | 70 | 40 |\n",
       "| 2  | 2  | 90 | 60 |\n",
       "\n"
      ],
      "text/plain": [
       "  student_number semester math_score english_score\n",
       "1 1              1        60         80           \n",
       "2 2              1        90         70           \n",
       "3 1              2        70         40           \n",
       "4 2              2        90         60           "
      ]
     },
     "metadata": {},
     "output_type": "display_data"
    }
   ],
   "source": [
    "# install.packages(\"sqldf\")\n",
    "library(sqldf)\n",
    "sqldf(\"select * from score\")"
   ]
  },
  {
   "cell_type": "code",
   "execution_count": 5,
   "id": "2c8c72f7",
   "metadata": {},
   "outputs": [
    {
     "data": {
      "text/html": [
       "<table>\n",
       "<thead><tr><th scope=col>student_number</th><th scope=col>semester</th><th scope=col>math_score</th><th scope=col>english_score</th></tr></thead>\n",
       "<tbody>\n",
       "\t<tr><td>1 </td><td>1 </td><td>60</td><td>80</td></tr>\n",
       "\t<tr><td>1 </td><td>2 </td><td>70</td><td>40</td></tr>\n",
       "</tbody>\n",
       "</table>\n"
      ],
      "text/latex": [
       "\\begin{tabular}{r|llll}\n",
       " student\\_number & semester & math\\_score & english\\_score\\\\\n",
       "\\hline\n",
       "\t 1  & 1  & 60 & 80\\\\\n",
       "\t 1  & 2  & 70 & 40\\\\\n",
       "\\end{tabular}\n"
      ],
      "text/markdown": [
       "\n",
       "| student_number | semester | math_score | english_score |\n",
       "|---|---|---|---|\n",
       "| 1  | 1  | 60 | 80 |\n",
       "| 1  | 2  | 70 | 40 |\n",
       "\n"
      ],
      "text/plain": [
       "  student_number semester math_score english_score\n",
       "1 1              1        60         80           \n",
       "2 1              2        70         40           "
      ]
     },
     "metadata": {},
     "output_type": "display_data"
    }
   ],
   "source": [
    "sqldf(\"select * from score where student_number = 1\")"
   ]
  },
  {
   "cell_type": "code",
   "execution_count": 8,
   "id": "2b3497db",
   "metadata": {},
   "outputs": [
    {
     "data": {
      "text/html": [
       "<table>\n",
       "<thead><tr><th scope=col>avg(math_score)</th><th scope=col>avg(english_score)</th></tr></thead>\n",
       "<tbody>\n",
       "\t<tr><td>65</td><td>60</td></tr>\n",
       "\t<tr><td>90</td><td>65</td></tr>\n",
       "</tbody>\n",
       "</table>\n"
      ],
      "text/latex": [
       "\\begin{tabular}{r|ll}\n",
       " avg(math\\_score) & avg(english\\_score)\\\\\n",
       "\\hline\n",
       "\t 65 & 60\\\\\n",
       "\t 90 & 65\\\\\n",
       "\\end{tabular}\n"
      ],
      "text/markdown": [
       "\n",
       "| avg(math_score) | avg(english_score) |\n",
       "|---|---|\n",
       "| 65 | 60 |\n",
       "| 90 | 65 |\n",
       "\n"
      ],
      "text/plain": [
       "  avg(math_score) avg(english_score)\n",
       "1 65              60                \n",
       "2 90              65                "
      ]
     },
     "metadata": {},
     "output_type": "display_data"
    }
   ],
   "source": [
    "sqldf(\"select avg(math_score), avg(english_score) from score group by student_number\")\n",
    "## 책과 동일 : sqldf(\"select student_number, avg(math_score), avg(english_score) from score group by student_number\")"
   ]
  },
  {
   "cell_type": "markdown",
   "id": "4c883160",
   "metadata": {},
   "source": [
    "### (3) plyr 패키지"
   ]
  },
  {
   "cell_type": "markdown",
   "id": "6f6c4c14",
   "metadata": {},
   "source": [
    "- apply 함수를 기반으로 데이터를 분리하고 다시 결합하는 가장 필수적인 데이터 처리 기능을 제공"
   ]
  },
  {
   "cell_type": "markdown",
   "id": "c0c16ae3",
   "metadata": {},
   "source": [
    "- 입력되는 데이터 구조와 출력되는 데이터 구조에 따라 여러 가지 함수를 지원"
   ]
  },
  {
   "cell_type": "markdown",
   "id": "6c5300e5",
   "metadata": {},
   "source": [
    "- 다양한 함수를 제공하지만 그 중 ddply 함수는 시험 출제 빈도와 실제 활용 빈도가 상당히 높음"
   ]
  },
  {
   "cell_type": "markdown",
   "id": "8546958f",
   "metadata": {},
   "source": [
    "- plyr 공식 문서 : https://cran.r-project.org/web/packages/plyr/plyr.pdf"
   ]
  },
  {
   "cell_type": "markdown",
   "id": "1f847411",
   "metadata": {},
   "source": [
    "\n",
    "<table>\n",
    "   <tr>\n",
    "       <td colspan=\"5\"><b><big>입력 데이터 구조</big></b></td>\n",
    "  </tr>\n",
    "  <tr>\n",
    "      <td colspan=\"2\"></td>\n",
    "    <td><b>데이터프레임</b></td>\n",
    "    <td><b>리스트</b></td>\n",
    "      <td><b>배열</b></td>\n",
    "  </tr>\n",
    "  <tr>\n",
    "      <td rowspan=\"5\"><b><big>출력 데이터 구조</big></b></td>\n",
    "      <td><b>데이터프레임</b></td>\n",
    "      <td>ddply</td>\n",
    "      <td>ldply</td>\n",
    "      <td>adply</td>\n",
    "  </tr>\n",
    "  <tr>\n",
    "      <td><b>리스트</b></td>\n",
    "      <td>dlply</td>\n",
    "      <td>llply</td>\n",
    "      <td>alply</td>\n",
    "  </tr>  <tr>\n",
    "      <td><b>배열</b></td>\n",
    "      <td>daply</td>\n",
    "      <td>laply</td>\n",
    "      <td>aaply</td>\n",
    "  </tr>\n",
    "</table>"
   ]
  },
  {
   "cell_type": "code",
   "execution_count": 17,
   "id": "1513c37d",
   "metadata": {},
   "outputs": [
    {
     "data": {
      "text/html": [
       "<table>\n",
       "<thead><tr><th scope=col>class</th><th scope=col>math</th><th scope=col>english</th></tr></thead>\n",
       "<tbody>\n",
       "\t<tr><td>A </td><td>50</td><td>70</td></tr>\n",
       "\t<tr><td>A </td><td>70</td><td>80</td></tr>\n",
       "\t<tr><td>B </td><td>60</td><td>60</td></tr>\n",
       "\t<tr><td>B </td><td>90</td><td>80</td></tr>\n",
       "</tbody>\n",
       "</table>\n"
      ],
      "text/latex": [
       "\\begin{tabular}{r|lll}\n",
       " class & math & english\\\\\n",
       "\\hline\n",
       "\t A  & 50 & 70\\\\\n",
       "\t A  & 70 & 80\\\\\n",
       "\t B  & 60 & 60\\\\\n",
       "\t B  & 90 & 80\\\\\n",
       "\\end{tabular}\n"
      ],
      "text/markdown": [
       "\n",
       "| class | math | english |\n",
       "|---|---|---|\n",
       "| A  | 50 | 70 |\n",
       "| A  | 70 | 80 |\n",
       "| B  | 60 | 60 |\n",
       "| B  | 90 | 80 |\n",
       "\n"
      ],
      "text/plain": [
       "  class math english\n",
       "1 A     50   70     \n",
       "2 A     70   80     \n",
       "3 B     60   60     \n",
       "4 B     90   80     "
      ]
     },
     "metadata": {},
     "output_type": "display_data"
    }
   ],
   "source": [
    "class <- c(\"A\",\"A\",\"B\",\"B\")\n",
    "math <- c(50, 70, 60, 90)\n",
    "english <- c(70,80,60,80)\n",
    "score <- data.frame(class, math,english)\n",
    "score"
   ]
  },
  {
   "cell_type": "code",
   "execution_count": 19,
   "id": "e22620c1",
   "metadata": {},
   "outputs": [
    {
     "data": {
      "text/html": [
       "<table>\n",
       "<thead><tr><th scope=col>class</th><th scope=col>math_avg</th><th scope=col>eng_avg</th></tr></thead>\n",
       "<tbody>\n",
       "\t<tr><td>A </td><td>60</td><td>75</td></tr>\n",
       "\t<tr><td>B </td><td>75</td><td>70</td></tr>\n",
       "</tbody>\n",
       "</table>\n"
      ],
      "text/latex": [
       "\\begin{tabular}{r|lll}\n",
       " class & math\\_avg & eng\\_avg\\\\\n",
       "\\hline\n",
       "\t A  & 60 & 75\\\\\n",
       "\t B  & 75 & 70\\\\\n",
       "\\end{tabular}\n"
      ],
      "text/markdown": [
       "\n",
       "| class | math_avg | eng_avg |\n",
       "|---|---|---|\n",
       "| A  | 60 | 75 |\n",
       "| B  | 75 | 70 |\n",
       "\n"
      ],
      "text/plain": [
       "  class math_avg eng_avg\n",
       "1 A     60       75     \n",
       "2 B     75       70     "
      ]
     },
     "metadata": {},
     "output_type": "display_data"
    }
   ],
   "source": [
    "# install.packages(\"plyr\")\n",
    "library(plyr)\n",
    "ddply(score, \"class\", summarise, math_avg = mean(math), eng_avg= mean(english)) # summarise는 데이터 요약"
   ]
  },
  {
   "cell_type": "code",
   "execution_count": 20,
   "id": "f87eac48",
   "metadata": {},
   "outputs": [
    {
     "data": {
      "text/html": [
       "<table>\n",
       "<thead><tr><th scope=col>class</th><th scope=col>math</th><th scope=col>english</th><th scope=col>math_avg</th><th scope=col>eng_avg</th></tr></thead>\n",
       "<tbody>\n",
       "\t<tr><td>A </td><td>50</td><td>70</td><td>60</td><td>75</td></tr>\n",
       "\t<tr><td>A </td><td>70</td><td>80</td><td>60</td><td>75</td></tr>\n",
       "\t<tr><td>B </td><td>60</td><td>60</td><td>75</td><td>70</td></tr>\n",
       "\t<tr><td>B </td><td>90</td><td>80</td><td>75</td><td>70</td></tr>\n",
       "</tbody>\n",
       "</table>\n"
      ],
      "text/latex": [
       "\\begin{tabular}{r|lllll}\n",
       " class & math & english & math\\_avg & eng\\_avg\\\\\n",
       "\\hline\n",
       "\t A  & 50 & 70 & 60 & 75\\\\\n",
       "\t A  & 70 & 80 & 60 & 75\\\\\n",
       "\t B  & 60 & 60 & 75 & 70\\\\\n",
       "\t B  & 90 & 80 & 75 & 70\\\\\n",
       "\\end{tabular}\n"
      ],
      "text/markdown": [
       "\n",
       "| class | math | english | math_avg | eng_avg |\n",
       "|---|---|---|---|---|\n",
       "| A  | 50 | 70 | 60 | 75 |\n",
       "| A  | 70 | 80 | 60 | 75 |\n",
       "| B  | 60 | 60 | 75 | 70 |\n",
       "| B  | 90 | 80 | 75 | 70 |\n",
       "\n"
      ],
      "text/plain": [
       "  class math english math_avg eng_avg\n",
       "1 A     50   70      60       75     \n",
       "2 A     70   80      60       75     \n",
       "3 B     60   60      75       70     \n",
       "4 B     90   80      75       70     "
      ]
     },
     "metadata": {},
     "output_type": "display_data"
    }
   ],
   "source": [
    "ddply(score, \"class\", transform, math_avg = mean(math), eng_avg= mean(english)) # transform은 기존 데이터에 추가"
   ]
  },
  {
   "cell_type": "code",
   "execution_count": 24,
   "id": "594e0fae",
   "metadata": {},
   "outputs": [
    {
     "data": {
      "text/html": [
       "<table>\n",
       "<thead><tr><th scope=col>year</th><th scope=col>month</th><th scope=col>value</th></tr></thead>\n",
       "<tbody>\n",
       "\t<tr><td>2012</td><td>1   </td><td>3   </td></tr>\n",
       "\t<tr><td>2012</td><td>1   </td><td>5   </td></tr>\n",
       "\t<tr><td>2012</td><td>2   </td><td>7   </td></tr>\n",
       "\t<tr><td>2012</td><td>2   </td><td>9   </td></tr>\n",
       "\t<tr><td>2013</td><td>1   </td><td>1   </td></tr>\n",
       "\t<tr><td>2013</td><td>1   </td><td>5   </td></tr>\n",
       "\t<tr><td>2013</td><td>2   </td><td>4   </td></tr>\n",
       "\t<tr><td>2013</td><td>2   </td><td>6   </td></tr>\n",
       "</tbody>\n",
       "</table>\n"
      ],
      "text/latex": [
       "\\begin{tabular}{r|lll}\n",
       " year & month & value\\\\\n",
       "\\hline\n",
       "\t 2012 & 1    & 3   \\\\\n",
       "\t 2012 & 1    & 5   \\\\\n",
       "\t 2012 & 2    & 7   \\\\\n",
       "\t 2012 & 2    & 9   \\\\\n",
       "\t 2013 & 1    & 1   \\\\\n",
       "\t 2013 & 1    & 5   \\\\\n",
       "\t 2013 & 2    & 4   \\\\\n",
       "\t 2013 & 2    & 6   \\\\\n",
       "\\end{tabular}\n"
      ],
      "text/markdown": [
       "\n",
       "| year | month | value |\n",
       "|---|---|---|\n",
       "| 2012 | 1    | 3    |\n",
       "| 2012 | 1    | 5    |\n",
       "| 2012 | 2    | 7    |\n",
       "| 2012 | 2    | 9    |\n",
       "| 2013 | 1    | 1    |\n",
       "| 2013 | 1    | 5    |\n",
       "| 2013 | 2    | 4    |\n",
       "| 2013 | 2    | 6    |\n",
       "\n"
      ],
      "text/plain": [
       "  year month value\n",
       "1 2012 1     3    \n",
       "2 2012 1     5    \n",
       "3 2012 2     7    \n",
       "4 2012 2     9    \n",
       "5 2013 1     1    \n",
       "6 2013 1     5    \n",
       "7 2013 2     4    \n",
       "8 2013 2     6    "
      ]
     },
     "metadata": {},
     "output_type": "display_data"
    }
   ],
   "source": [
    "year = c(\"2012\",\"2012\",\"2012\",\"2012\",\"2013\",\"2013\",\"2013\",\"2013\")\n",
    "month = c(1,1,2,2,1,1,2,2)\n",
    "value = c(3,5,7,9,1,5,4,6)\n",
    "data = data.frame(year, month, value)\n",
    "data"
   ]
  },
  {
   "cell_type": "code",
   "execution_count": 25,
   "id": "8b89256b",
   "metadata": {},
   "outputs": [
    {
     "data": {
      "text/html": [
       "<table>\n",
       "<thead><tr><th scope=col>year</th><th scope=col>month</th><th scope=col>value_avg</th></tr></thead>\n",
       "<tbody>\n",
       "\t<tr><td>2012</td><td>1   </td><td>4   </td></tr>\n",
       "\t<tr><td>2012</td><td>2   </td><td>8   </td></tr>\n",
       "\t<tr><td>2013</td><td>1   </td><td>3   </td></tr>\n",
       "\t<tr><td>2013</td><td>2   </td><td>5   </td></tr>\n",
       "</tbody>\n",
       "</table>\n"
      ],
      "text/latex": [
       "\\begin{tabular}{r|lll}\n",
       " year & month & value\\_avg\\\\\n",
       "\\hline\n",
       "\t 2012 & 1    & 4   \\\\\n",
       "\t 2012 & 2    & 8   \\\\\n",
       "\t 2013 & 1    & 3   \\\\\n",
       "\t 2013 & 2    & 5   \\\\\n",
       "\\end{tabular}\n"
      ],
      "text/markdown": [
       "\n",
       "| year | month | value_avg |\n",
       "|---|---|---|\n",
       "| 2012 | 1    | 4    |\n",
       "| 2012 | 2    | 8    |\n",
       "| 2013 | 1    | 3    |\n",
       "| 2013 | 2    | 5    |\n",
       "\n"
      ],
      "text/plain": [
       "  year month value_avg\n",
       "1 2012 1     4        \n",
       "2 2012 2     8        \n",
       "3 2013 1     3        \n",
       "4 2013 2     5        "
      ]
     },
     "metadata": {},
     "output_type": "display_data"
    }
   ],
   "source": [
    "# 기준이 되는 변수를 2개 이상 묶어서 사용\n",
    "ddply(data, c(\"year\",\"month\"),summarise, value_avg=mean(value))"
   ]
  },
  {
   "cell_type": "code",
   "execution_count": 26,
   "id": "8c38f860",
   "metadata": {},
   "outputs": [
    {
     "data": {
      "text/html": [
       "<table>\n",
       "<thead><tr><th scope=col>year</th><th scope=col>month</th><th scope=col>avg_sd</th></tr></thead>\n",
       "<tbody>\n",
       "\t<tr><td>2012    </td><td>1       </td><td>2.828427</td></tr>\n",
       "\t<tr><td>2012    </td><td>2       </td><td>5.656854</td></tr>\n",
       "\t<tr><td>2013    </td><td>1       </td><td>1.060660</td></tr>\n",
       "\t<tr><td>2013    </td><td>2       </td><td>3.535534</td></tr>\n",
       "</tbody>\n",
       "</table>\n"
      ],
      "text/latex": [
       "\\begin{tabular}{r|lll}\n",
       " year & month & avg\\_sd\\\\\n",
       "\\hline\n",
       "\t 2012     & 1        & 2.828427\\\\\n",
       "\t 2012     & 2        & 5.656854\\\\\n",
       "\t 2013     & 1        & 1.060660\\\\\n",
       "\t 2013     & 2        & 3.535534\\\\\n",
       "\\end{tabular}\n"
      ],
      "text/markdown": [
       "\n",
       "| year | month | avg_sd |\n",
       "|---|---|---|\n",
       "| 2012     | 1        | 2.828427 |\n",
       "| 2012     | 2        | 5.656854 |\n",
       "| 2013     | 1        | 1.060660 |\n",
       "| 2013     | 2        | 3.535534 |\n",
       "\n"
      ],
      "text/plain": [
       "  year month avg_sd  \n",
       "1 2012 1     2.828427\n",
       "2 2012 2     5.656854\n",
       "3 2013 1     1.060660\n",
       "4 2013 2     3.535534"
      ]
     },
     "metadata": {},
     "output_type": "display_data"
    }
   ],
   "source": [
    "# 원하는 임의의 함수를 작성해서 사용\n",
    "ddply(data, c(\"year\",\"month\"),function(x){\n",
    "    value_avg = mean(x$value)\n",
    "    value_sd = sd(x$value)\n",
    "    data.frame(avg_sd = value_avg/value_sd)\n",
    "})"
   ]
  },
  {
   "cell_type": "markdown",
   "id": "60a4557a",
   "metadata": {},
   "source": [
    "### (4) data.table 패키지"
   ]
  },
  {
   "cell_type": "markdown",
   "id": "bb4755ed",
   "metadata": {},
   "source": [
    "- 데이터 테이블은 데이터프레임과 유사하지만 특정 칼럼별로 주솟값을 갖는 인덱스를 생성해 연산 및 검색이 빠름"
   ]
  },
  {
   "cell_type": "markdown",
   "id": "c004e28c",
   "metadata": {},
   "source": [
    "- 기존 데이터 프레임보다 적게는 4배에서 크게는 100배에 가까운 빠른 속도로 데이터를 탐색, 연산, 정렬, 병합할 수 있게 함."
   ]
  },
  {
   "cell_type": "code",
   "execution_count": 28,
   "id": "c3e44b3a",
   "metadata": {},
   "outputs": [],
   "source": [
    "# install.packages(\"data.table\")\n",
    "library(\"data.table\")"
   ]
  },
  {
   "cell_type": "code",
   "execution_count": 30,
   "id": "4ce747c8",
   "metadata": {},
   "outputs": [],
   "source": [
    "year <- rep(c(2012:2015),each=12000000)\n",
    "month <- rep(rep(c(1:12), each=1000000),4)\n",
    "value <- runif(48000000)\n",
    "DataFrame <- data.frame(year, month, value)\n",
    "DataTable <- as.data.table(DataFrame)"
   ]
  },
  {
   "cell_type": "code",
   "execution_count": 31,
   "id": "6a76c9b8",
   "metadata": {},
   "outputs": [
    {
     "data": {
      "text/plain": [
       "   user  system elapsed \n",
       "   0.73    0.01    0.75 "
      ]
     },
     "metadata": {},
     "output_type": "display_data"
    }
   ],
   "source": [
    "system.time(DataFrame[DataFrame$year==2012,])"
   ]
  },
  {
   "cell_type": "code",
   "execution_count": 32,
   "id": "a0ad8781",
   "metadata": {},
   "outputs": [
    {
     "data": {
      "text/plain": [
       "   user  system elapsed \n",
       "   0.27    0.02    0.17 "
      ]
     },
     "metadata": {},
     "output_type": "display_data"
    }
   ],
   "source": [
    "system.time(DataTable[DataTable$year==2012,])"
   ]
  },
  {
   "cell_type": "code",
   "execution_count": 33,
   "id": "40015f33",
   "metadata": {},
   "outputs": [],
   "source": [
    "# 데이터 테이블의 연도 칼럼에 키 값을 설정\n",
    "# 칼럼이 키 값으로 설정될 경우 자동 오름차순 정렬\n",
    "setkey(DataTable, year)"
   ]
  },
  {
   "cell_type": "code",
   "execution_count": 39,
   "id": "1d416478",
   "metadata": {},
   "outputs": [
    {
     "data": {
      "text/plain": [
       "   user  system elapsed \n",
       "   0.11    0.00    0.11 "
      ]
     },
     "metadata": {},
     "output_type": "display_data"
    }
   ],
   "source": [
    "# 키 값으로 설정된 칼럼과 J 표현식을 사용한 검색 시간 측정\n",
    "system.time(DataTable[J(2012)])"
   ]
  }
 ],
 "metadata": {
  "kernelspec": {
   "display_name": "R",
   "language": "R",
   "name": "ir"
  },
  "language_info": {
   "codemirror_mode": "r",
   "file_extension": ".r",
   "mimetype": "text/x-r-source",
   "name": "R",
   "pygments_lexer": "r",
   "version": "3.6.1"
  }
 },
 "nbformat": 4,
 "nbformat_minor": 5
}

{
 "cells": [
  {
   "cell_type": "markdown",
   "id": "3b2899e5-2d6e-4a26-8d42-af25af65a39d",
   "metadata": {},
   "source": [
    "# fastpages를 이용한 강의블로그 개설\n",
    "\n",
    "- toc:true\n",
    "- branch: master\n",
    "- badges: false\n",
    "- comments: false\n",
    "- author: 최규빈"
   ]
  },
  {
   "cell_type": "markdown",
   "id": "6ade71d3-962d-457d-87a0-b984ce5c6442",
   "metadata": {},
   "source": [
    "### 강의블로그 개설 "
   ]
  },
  {
   "cell_type": "markdown",
   "id": "a29903d7-a4c9-4adc-a77c-0f9464436182",
   "metadata": {},
   "source": [
    "`-` https://github.com/fastai/fastpages $\\to$ Use this templete $\\to$ Repository name $\\to$ Create repository from template"
   ]
  },
  {
   "cell_type": "markdown",
   "id": "02562978-357e-4dcb-aa3a-591eaf440c3d",
   "metadata": {},
   "source": [
    "`-` wait 30 sec $\\to$ pull requeset $\\to$ Initial Setup $\\to$ follow ***instructions*** $\\to$ merge pull request $\\to$ confirm merge $\\to$ wait 5 min(?)\n",
    "\n",
    "***instructions***\n",
    "\n",
    "- go to https://8gwifi.org/sshfunctions.jsp $\\to$ select (RSA,4096) $\\to$ copy private key $\\to$ (repo $\\to$ Settings $\\to$ Secretes) $\\to$ New repository secret $\\to$ {Name: SSH_DEPLOY_KEY, Value: paste private key} \n",
    "- go to https://8gwifi.org/sshfunctions.jsp $\\to$ select (RSA,4096) $\\to$ copy public key $\\to$ (repo $\\to$ Settings $\\to$ Deploy keys) $\\to$ Add deploy key $\\to$ {Title: fastpages-key, Key: paste public key} $\\to$ check 'Allow write access' $\\to$ Add key $\\to$ Enter passwd"
   ]
  },
  {
   "cell_type": "markdown",
   "id": "ef4373e5-51ee-48fd-bbbe-532a6906c6e4",
   "metadata": {},
   "source": [
    "### 홈페이지 설정 (생략해도 무방) "
   ]
  },
  {
   "cell_type": "markdown",
   "id": "80784d5d-6c1b-45d7-a330-f59431f0dca9",
   "metadata": {},
   "source": [
    "`-` 불필요한 파일 삭제 \n",
    "- ~/_notebooks/2020-02-20-test.ipynb\n",
    "- ~/_posts/2020-01-14-test-markdown-post.md"
   ]
  },
  {
   "cell_type": "markdown",
   "id": "d2e1cfa4-9cc3-41fa-b512-af368a3f5961",
   "metadata": {},
   "source": [
    "`-` `_config.yml` 수정 \n",
    "\n",
    "- title: fastpages --> title: ADSP 분류분석 (전북대학교 2022년 겨울방학특강)\n",
    "- description: An easy to use blogging platform with support for Jupyter Notebooks. --> 주석처리 \n",
    "- use_math: --> use_math: true\n",
    "- default_badges: 를 아래와 같이 수정 \n",
    "```\n",
    "default_badges:\n",
    "    github: true\n",
    "    binder: false\n",
    "    colab: true ## 코랩사용 못하게 하려면 false \n",
    "    deepnote: false\n",
    "```"
   ]
  },
  {
   "cell_type": "markdown",
   "id": "fa0e092d-1ed7-48a2-9eca-8cd061b94509",
   "metadata": {},
   "source": [
    "`-` `index_html`: 아래와 같이 설정 \n",
    "\n",
    "```\n",
    "---\n",
    "layout: home\n",
    "search_exclude: true\n",
    "image: images/logo.png\n",
    "---\n",
    "\n",
    "# Lecture\n",
    "```"
   ]
  },
  {
   "cell_type": "markdown",
   "id": "5e6c9d3d-24c2-4703-be8f-3ba01a50ddbb",
   "metadata": {},
   "source": [
    "`-` `/_pages/about.md`: 아래와 같이 설정 "
   ]
  },
  {
   "cell_type": "markdown",
   "id": "0d7d5e54-65bd-4e48-bbba-03e6accd9643",
   "metadata": {},
   "source": [
    "```\n",
    "---\n",
    "layout: page\n",
    "title: About Me\n",
    "permalink: /about/\n",
    "---\n",
    "\n",
    "최규빈\n",
    "- https://github.com/guebin\n",
    "- guebin@jbnu.ac.kr\n",
    "- 자연과학대학교 본관 205호 \n",
    "\n",
    "\n",
    "```"
   ]
  },
  {
   "cell_type": "markdown",
   "id": "a16b770a-43fb-4abb-b77b-b64bf0b7591d",
   "metadata": {},
   "source": [
    "### 강의노트 업로드 "
   ]
  },
  {
   "cell_type": "markdown",
   "id": "ec042264-77cb-49de-8c97-812b010453a7",
   "metadata": {},
   "source": [
    "`-` jupyternote book 파일을 `_notebooks` 폴더에 업로드\n",
    "- 방법1: github에서 직접 업로드\n",
    "- 방법2: local PC $\\to$ github 으로 push \n",
    "- 방법3: colab $\\to$ file $\\to$ Save a copy in GitHub \n",
    "- 기타등등.. "
   ]
  },
  {
   "cell_type": "markdown",
   "id": "059db118-af17-48a4-b2e8-59b2b91015a6",
   "metadata": {},
   "source": [
    "`note` R kernel과 연결된 노트북일 경우 노트북 제일 상단에 아래와 같이 설정하면 편리함\n",
    "\n",
    "```\n",
    "#hide\n",
    "options(jupyter.rich_display=FALSE) \n",
    "options(repr.plot.width=5.5,repr.plot.height=5.5,repr.plot.res=200) \n",
    "options(max.print=200) \n",
    "```"
   ]
  },
  {
   "cell_type": "markdown",
   "id": "90e232e0-c144-4b29-a3f5-479dc62161e2",
   "metadata": {},
   "source": [
    "### 강의노트 다운로드"
   ]
  },
  {
   "cell_type": "markdown",
   "id": "d9a1a7b2-7770-40c9-b877-49aaa1100ec2",
   "metadata": {},
   "source": [
    "`-` 강의노트 pages 접속 \n",
    "- 방법1: View On GitHub $\\to$ Raw $\\to$ Ctrl + S $\\to$ `fname.ipynb.txt` 에서 `.txt` 삭제 후 저장\n",
    "- 방법2: Open in Colab $\\to$ Download $\\to$ Download .ipynb \n",
    "- 방법3: html, pdf로 저장? "
   ]
  },
  {
   "cell_type": "markdown",
   "id": "429bf5a3-3f87-41d6-addc-d0e6dce0f124",
   "metadata": {},
   "source": [
    "`-` GitHub repo 접속 \n",
    "- 방법1: Fork\n",
    "- 방법2: Clone \n",
    "- 방법3: Code $\\to$ Download ZIP\n",
    "- 등등.. "
   ]
  },
  {
   "cell_type": "markdown",
   "id": "b2e75c4e-6ba6-4eac-b2b3-42c46bd6c24d",
   "metadata": {},
   "source": [
    "### ref"
   ]
  },
  {
   "cell_type": "markdown",
   "id": "80ec8ace-ca66-4dfd-aff3-bb99adb8acc9",
   "metadata": {},
   "source": [
    "`-` https://github.com/fastai/fastpages "
   ]
  },
  {
   "cell_type": "markdown",
   "id": "0aa01e13-e28c-43c5-8f29-6471ae7b9320",
   "metadata": {},
   "source": [
    "`-` https://fastpages.fast.ai/ "
   ]
  }
 ],
 "metadata": {
  "kernelspec": {
   "display_name": "R",
   "language": "R",
   "name": "ir"
  },
  "language_info": {
   "codemirror_mode": "r",
   "file_extension": ".r",
   "mimetype": "text/x-r-source",
   "name": "R",
   "pygments_lexer": "r",
   "version": "4.0.2"
  },
  "widgets": {
   "application/vnd.jupyter.widget-state+json": {
    "state": {},
    "version_major": 2,
    "version_minor": 0
   }
  }
 },
 "nbformat": 4,
 "nbformat_minor": 5
}
